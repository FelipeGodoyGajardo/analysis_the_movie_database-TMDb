{
 "cells": [
  {
   "cell_type": "markdown",
   "metadata": {},
   "source": [
    "# Project: Investigate a dataset from The Movie Database (TMDb)\n",
    "\n",
    "## Table of Contents\n",
    "<ul>\n",
    "<li><a href=\"#intro\">Introduction</a></li>\n",
    "<li><a href=\"#wrangling\">Data Wrangling</a></li>\n",
    "<li><a href=\"#eda\">Exploratory Data Analysis</a></li>\n",
    "<li><a href=\"#conclusions\">Conclusions</a></li>\n",
    "</ul>"
   ]
  },
  {
   "cell_type": "markdown",
   "metadata": {},
   "source": [
    "<a id='intro'></a>\n",
    "## **Introduction**\n",
    "\n",
    "The following is an analysis of a database from The Movie Database (TMDb) which contains information on more than 10,000 films, separated into 21 columns:\n",
    "\n",
    "* id: film identification number\n",
    "* imdb_id: film identification number from The Movie Database (TMDb)\n",
    "* popularity: metric used to measure the popularity of a film. (https://developers.themoviedb.org/3/getting-started/popularity)\n",
    "* budget\n",
    "* revenue\n",
    "* original_title: original film name\n",
    "* cast\n",
    "* homepage\n",
    "* director\n",
    "* tagline: caption used to publicize the film\n",
    "* keywords\n",
    "* overview\n",
    "* runtime\n",
    "* genres\n",
    "* production_companies\n",
    "* release_date\n",
    "* vote_count: number of votes of opinion about the film\n",
    "* vote_average: average movie rating (from 0 to 10)\n",
    "* release_year\n",
    "* budget_adj: budget associated of the associated movie, in terms of 2010 dollars (accounting for inflation over time)\n",
    "* revenue_adj: revenue associated of the associated movie, in terms of 2010 dollars (accounting for inflation over time)\n",
    "\n",
    "\n",
    "The file to analyze contain:\n",
    "\n",
    "* Total Rows = 10866\n",
    "* Total Columns = 21\n",
    "* After Seeing the dataset we can say that some columns is contain null values and duplicated\n"
   ]
  },
  {
   "cell_type": "markdown",
   "metadata": {},
   "source": [
    "### * Which answers will be answered?\n",
    "\n",
    "The <a href=\"#eda\">Exploratory Data Analysis</a> is separated into 5 parts:\n",
    "<ul>\n",
    "<li><a href=\"#a_genres\">About genres</a></li>\n",
    "<li><a href=\"#a_movies\">About movies</a></li>\n",
    "<li><a href=\"#a_pop\">About popularity</a></li>\n",
    "<li><a href=\"#a_budget\">About revenue, budget and profits</a></li>\n",
    "<li><a href=\"#a_others\">Other interesting data</a></li>\n",
    "</ul>\n",
    "\n",
    "Each of these items answers questions about the item you are viewing. There are a total of 21 questions.\n",
    "\n",
    "<ul>\n",
    "<li><a href=\"#1\">What are the most popular genres?</a></li>\n",
    "<li><a href=\"#2\">Genre classification by year</a></li>\n",
    "<li><a href=\"#3\">Genre classification by popularity</a></li>\n",
    "<li><a href=\"#4\">What are the films with the longest running time?</a></li>\n",
    "<li><a href=\"#5\">What are the films with the shortest running time?</a></li>\n",
    "<li><a href=\"#6\">How has the length of films evolved over time?</a></li>\n",
    "<li><a href=\"#7\">Does the length of the film affect popularity?</a></li>\n",
    "<li><a href=\"#8\">What are the most popular movies?</a></li>  \n",
    "<li><a href=\"#9\">Does the release year affect popularity?</a></li>\n",
    "<li><a href=\"#10\">Does higher revenue ensure greater popularity?</a></li>\n",
    "<li><a href=\"#11\">Popularity by director and cast</a></li>\n",
    "<li><a href=\"#12\">Films with higher/lower profits</a></li>\n",
    "<li><a href=\"#13\"> Does a higher budget ensure a higher profit?</a></li>\n",
    "<li><a href=\"#14\">Relationship between budget and revenues</a></li>\n",
    "<li><a href=\"#15\">Profits over the years</a></li>\n",
    "<li><a href=\"#16\">Budget over the years</a></li> \n",
    "<li><a href=\"#17\">Revenue over the years</a></li>\n",
    "<li><a href=\"#18\">Number of films made by year</a></li>\n",
    "<li><a href=\"#19\">Which actors have appeared in the most films?</a></li>\n",
    "<li><a href=\"#20\">Which directors have directed the most films?</a></li>\n",
    "<li><a href=\"#21\">Which production companies have directed the films?</a></li>\n",
    "</ul>\n",
    "\n"
   ]
  },
  {
   "cell_type": "markdown",
   "metadata": {},
   "source": [
    "### * *Import libraries*\n",
    "The libraries to be used are imported."
   ]
  },
  {
   "cell_type": "code",
   "execution_count": 1,
   "metadata": {},
   "outputs": [],
   "source": [
    "import pandas as pd\n",
    "import numpy as np\n",
    "import matplotlib.pyplot as plt"
   ]
  },
  {
   "cell_type": "markdown",
   "metadata": {},
   "source": [
    "<a id='wrangling'></a>\n",
    "## **Data Wrangling**\n",
    "\n",
    "In this section, the data is loaded, checked for cleanliness, and then the data set is arranged for analysis."
   ]
  },
  {
   "cell_type": "markdown",
   "metadata": {},
   "source": [
    "### * *General Properties*\n",
    "The file is read and analyzed."
   ]
  },
  {
   "cell_type": "code",
   "execution_count": 2,
   "metadata": {},
   "outputs": [
    {
     "data": {
      "text/html": [
       "<div>\n",
       "<style scoped>\n",
       "    .dataframe tbody tr th:only-of-type {\n",
       "        vertical-align: middle;\n",
       "    }\n",
       "\n",
       "    .dataframe tbody tr th {\n",
       "        vertical-align: top;\n",
       "    }\n",
       "\n",
       "    .dataframe thead th {\n",
       "        text-align: right;\n",
       "    }\n",
       "</style>\n",
       "<table border=\"1\" class=\"dataframe\">\n",
       "  <thead>\n",
       "    <tr style=\"text-align: right;\">\n",
       "      <th></th>\n",
       "      <th>id</th>\n",
       "      <th>imdb_id</th>\n",
       "      <th>popularity</th>\n",
       "      <th>budget</th>\n",
       "      <th>revenue</th>\n",
       "      <th>original_title</th>\n",
       "      <th>cast</th>\n",
       "      <th>homepage</th>\n",
       "      <th>director</th>\n",
       "      <th>tagline</th>\n",
       "      <th>...</th>\n",
       "      <th>overview</th>\n",
       "      <th>runtime</th>\n",
       "      <th>genres</th>\n",
       "      <th>production_companies</th>\n",
       "      <th>release_date</th>\n",
       "      <th>vote_count</th>\n",
       "      <th>vote_average</th>\n",
       "      <th>release_year</th>\n",
       "      <th>budget_adj</th>\n",
       "      <th>revenue_adj</th>\n",
       "    </tr>\n",
       "  </thead>\n",
       "  <tbody>\n",
       "    <tr>\n",
       "      <th>0</th>\n",
       "      <td>135397</td>\n",
       "      <td>tt0369610</td>\n",
       "      <td>32.985763</td>\n",
       "      <td>150000000</td>\n",
       "      <td>1513528810</td>\n",
       "      <td>Jurassic World</td>\n",
       "      <td>Chris Pratt|Bryce Dallas Howard|Irrfan Khan|Vi...</td>\n",
       "      <td>http://www.jurassicworld.com/</td>\n",
       "      <td>Colin Trevorrow</td>\n",
       "      <td>The park is open.</td>\n",
       "      <td>...</td>\n",
       "      <td>Twenty-two years after the events of Jurassic ...</td>\n",
       "      <td>124</td>\n",
       "      <td>Action|Adventure|Science Fiction|Thriller</td>\n",
       "      <td>Universal Studios|Amblin Entertainment|Legenda...</td>\n",
       "      <td>6/9/15</td>\n",
       "      <td>5562</td>\n",
       "      <td>6.5</td>\n",
       "      <td>2015</td>\n",
       "      <td>1.379999e+08</td>\n",
       "      <td>1.392446e+09</td>\n",
       "    </tr>\n",
       "    <tr>\n",
       "      <th>1</th>\n",
       "      <td>76341</td>\n",
       "      <td>tt1392190</td>\n",
       "      <td>28.419936</td>\n",
       "      <td>150000000</td>\n",
       "      <td>378436354</td>\n",
       "      <td>Mad Max: Fury Road</td>\n",
       "      <td>Tom Hardy|Charlize Theron|Hugh Keays-Byrne|Nic...</td>\n",
       "      <td>http://www.madmaxmovie.com/</td>\n",
       "      <td>George Miller</td>\n",
       "      <td>What a Lovely Day.</td>\n",
       "      <td>...</td>\n",
       "      <td>An apocalyptic story set in the furthest reach...</td>\n",
       "      <td>120</td>\n",
       "      <td>Action|Adventure|Science Fiction|Thriller</td>\n",
       "      <td>Village Roadshow Pictures|Kennedy Miller Produ...</td>\n",
       "      <td>5/13/15</td>\n",
       "      <td>6185</td>\n",
       "      <td>7.1</td>\n",
       "      <td>2015</td>\n",
       "      <td>1.379999e+08</td>\n",
       "      <td>3.481613e+08</td>\n",
       "    </tr>\n",
       "    <tr>\n",
       "      <th>2</th>\n",
       "      <td>262500</td>\n",
       "      <td>tt2908446</td>\n",
       "      <td>13.112507</td>\n",
       "      <td>110000000</td>\n",
       "      <td>295238201</td>\n",
       "      <td>Insurgent</td>\n",
       "      <td>Shailene Woodley|Theo James|Kate Winslet|Ansel...</td>\n",
       "      <td>http://www.thedivergentseries.movie/#insurgent</td>\n",
       "      <td>Robert Schwentke</td>\n",
       "      <td>One Choice Can Destroy You</td>\n",
       "      <td>...</td>\n",
       "      <td>Beatrice Prior must confront her inner demons ...</td>\n",
       "      <td>119</td>\n",
       "      <td>Adventure|Science Fiction|Thriller</td>\n",
       "      <td>Summit Entertainment|Mandeville Films|Red Wago...</td>\n",
       "      <td>3/18/15</td>\n",
       "      <td>2480</td>\n",
       "      <td>6.3</td>\n",
       "      <td>2015</td>\n",
       "      <td>1.012000e+08</td>\n",
       "      <td>2.716190e+08</td>\n",
       "    </tr>\n",
       "    <tr>\n",
       "      <th>3</th>\n",
       "      <td>140607</td>\n",
       "      <td>tt2488496</td>\n",
       "      <td>11.173104</td>\n",
       "      <td>200000000</td>\n",
       "      <td>2068178225</td>\n",
       "      <td>Star Wars: The Force Awakens</td>\n",
       "      <td>Harrison Ford|Mark Hamill|Carrie Fisher|Adam D...</td>\n",
       "      <td>http://www.starwars.com/films/star-wars-episod...</td>\n",
       "      <td>J.J. Abrams</td>\n",
       "      <td>Every generation has a story.</td>\n",
       "      <td>...</td>\n",
       "      <td>Thirty years after defeating the Galactic Empi...</td>\n",
       "      <td>136</td>\n",
       "      <td>Action|Adventure|Science Fiction|Fantasy</td>\n",
       "      <td>Lucasfilm|Truenorth Productions|Bad Robot</td>\n",
       "      <td>12/15/15</td>\n",
       "      <td>5292</td>\n",
       "      <td>7.5</td>\n",
       "      <td>2015</td>\n",
       "      <td>1.839999e+08</td>\n",
       "      <td>1.902723e+09</td>\n",
       "    </tr>\n",
       "    <tr>\n",
       "      <th>4</th>\n",
       "      <td>168259</td>\n",
       "      <td>tt2820852</td>\n",
       "      <td>9.335014</td>\n",
       "      <td>190000000</td>\n",
       "      <td>1506249360</td>\n",
       "      <td>Furious 7</td>\n",
       "      <td>Vin Diesel|Paul Walker|Jason Statham|Michelle ...</td>\n",
       "      <td>http://www.furious7.com/</td>\n",
       "      <td>James Wan</td>\n",
       "      <td>Vengeance Hits Home</td>\n",
       "      <td>...</td>\n",
       "      <td>Deckard Shaw seeks revenge against Dominic Tor...</td>\n",
       "      <td>137</td>\n",
       "      <td>Action|Crime|Thriller</td>\n",
       "      <td>Universal Pictures|Original Film|Media Rights ...</td>\n",
       "      <td>4/1/15</td>\n",
       "      <td>2947</td>\n",
       "      <td>7.3</td>\n",
       "      <td>2015</td>\n",
       "      <td>1.747999e+08</td>\n",
       "      <td>1.385749e+09</td>\n",
       "    </tr>\n",
       "  </tbody>\n",
       "</table>\n",
       "<p>5 rows × 21 columns</p>\n",
       "</div>"
      ],
      "text/plain": [
       "       id    imdb_id  popularity     budget     revenue  \\\n",
       "0  135397  tt0369610   32.985763  150000000  1513528810   \n",
       "1   76341  tt1392190   28.419936  150000000   378436354   \n",
       "2  262500  tt2908446   13.112507  110000000   295238201   \n",
       "3  140607  tt2488496   11.173104  200000000  2068178225   \n",
       "4  168259  tt2820852    9.335014  190000000  1506249360   \n",
       "\n",
       "                 original_title  \\\n",
       "0                Jurassic World   \n",
       "1            Mad Max: Fury Road   \n",
       "2                     Insurgent   \n",
       "3  Star Wars: The Force Awakens   \n",
       "4                     Furious 7   \n",
       "\n",
       "                                                cast  \\\n",
       "0  Chris Pratt|Bryce Dallas Howard|Irrfan Khan|Vi...   \n",
       "1  Tom Hardy|Charlize Theron|Hugh Keays-Byrne|Nic...   \n",
       "2  Shailene Woodley|Theo James|Kate Winslet|Ansel...   \n",
       "3  Harrison Ford|Mark Hamill|Carrie Fisher|Adam D...   \n",
       "4  Vin Diesel|Paul Walker|Jason Statham|Michelle ...   \n",
       "\n",
       "                                            homepage          director  \\\n",
       "0                      http://www.jurassicworld.com/   Colin Trevorrow   \n",
       "1                        http://www.madmaxmovie.com/     George Miller   \n",
       "2     http://www.thedivergentseries.movie/#insurgent  Robert Schwentke   \n",
       "3  http://www.starwars.com/films/star-wars-episod...       J.J. Abrams   \n",
       "4                           http://www.furious7.com/         James Wan   \n",
       "\n",
       "                         tagline  ...  \\\n",
       "0              The park is open.  ...   \n",
       "1             What a Lovely Day.  ...   \n",
       "2     One Choice Can Destroy You  ...   \n",
       "3  Every generation has a story.  ...   \n",
       "4            Vengeance Hits Home  ...   \n",
       "\n",
       "                                            overview runtime  \\\n",
       "0  Twenty-two years after the events of Jurassic ...     124   \n",
       "1  An apocalyptic story set in the furthest reach...     120   \n",
       "2  Beatrice Prior must confront her inner demons ...     119   \n",
       "3  Thirty years after defeating the Galactic Empi...     136   \n",
       "4  Deckard Shaw seeks revenge against Dominic Tor...     137   \n",
       "\n",
       "                                      genres  \\\n",
       "0  Action|Adventure|Science Fiction|Thriller   \n",
       "1  Action|Adventure|Science Fiction|Thriller   \n",
       "2         Adventure|Science Fiction|Thriller   \n",
       "3   Action|Adventure|Science Fiction|Fantasy   \n",
       "4                      Action|Crime|Thriller   \n",
       "\n",
       "                                production_companies release_date vote_count  \\\n",
       "0  Universal Studios|Amblin Entertainment|Legenda...       6/9/15       5562   \n",
       "1  Village Roadshow Pictures|Kennedy Miller Produ...      5/13/15       6185   \n",
       "2  Summit Entertainment|Mandeville Films|Red Wago...      3/18/15       2480   \n",
       "3          Lucasfilm|Truenorth Productions|Bad Robot     12/15/15       5292   \n",
       "4  Universal Pictures|Original Film|Media Rights ...       4/1/15       2947   \n",
       "\n",
       "   vote_average  release_year    budget_adj   revenue_adj  \n",
       "0           6.5          2015  1.379999e+08  1.392446e+09  \n",
       "1           7.1          2015  1.379999e+08  3.481613e+08  \n",
       "2           6.3          2015  1.012000e+08  2.716190e+08  \n",
       "3           7.5          2015  1.839999e+08  1.902723e+09  \n",
       "4           7.3          2015  1.747999e+08  1.385749e+09  \n",
       "\n",
       "[5 rows x 21 columns]"
      ]
     },
     "execution_count": 2,
     "metadata": {},
     "output_type": "execute_result"
    }
   ],
   "source": [
    "#Csv file is imported\n",
    "df = pd.read_csv(\"tmdb-movies.csv\")\n",
    "\n",
    "#We see the first rows of the file\n",
    "df.head()"
   ]
  },
  {
   "cell_type": "markdown",
   "metadata": {},
   "source": [
    "### * *Evaluate the dataframe*\n",
    "The dataframe and the information it holds are analyzed.."
   ]
  },
  {
   "cell_type": "code",
   "execution_count": 3,
   "metadata": {},
   "outputs": [
    {
     "name": "stdout",
     "output_type": "stream",
     "text": [
      "The dataframe contains (10866, 21) rows and columns\n"
     ]
    }
   ],
   "source": [
    "print(\"The dataframe contains {} rows and columns\".format(df.shape))"
   ]
  },
  {
   "cell_type": "code",
   "execution_count": 4,
   "metadata": {},
   "outputs": [
    {
     "name": "stdout",
     "output_type": "stream",
     "text": [
      "Has 1 duplicated element\n"
     ]
    }
   ],
   "source": [
    "print(\"Has {} duplicated element\".format(df.duplicated().sum()))"
   ]
  },
  {
   "cell_type": "code",
   "execution_count": 5,
   "metadata": {},
   "outputs": [
    {
     "name": "stdout",
     "output_type": "stream",
     "text": [
      "Numbers of NaN/Null data:\n",
      "\n"
     ]
    },
    {
     "data": {
      "text/plain": [
       "id                         0\n",
       "imdb_id                   10\n",
       "popularity                 0\n",
       "budget                     0\n",
       "revenue                    0\n",
       "original_title             0\n",
       "cast                      76\n",
       "homepage                7930\n",
       "director                  44\n",
       "tagline                 2824\n",
       "keywords                1493\n",
       "overview                   4\n",
       "runtime                    0\n",
       "genres                    23\n",
       "production_companies    1030\n",
       "release_date               0\n",
       "vote_count                 0\n",
       "vote_average               0\n",
       "release_year               0\n",
       "budget_adj                 0\n",
       "revenue_adj                0\n",
       "dtype: int64"
      ]
     },
     "execution_count": 5,
     "metadata": {},
     "output_type": "execute_result"
    }
   ],
   "source": [
    "print(\"Numbers of NaN/Null data:\\n\")\n",
    "df.isnull().sum()"
   ]
  },
  {
   "cell_type": "code",
   "execution_count": 6,
   "metadata": {},
   "outputs": [
    {
     "name": "stdout",
     "output_type": "stream",
     "text": [
      "Types of data:\n",
      "\n"
     ]
    },
    {
     "data": {
      "text/plain": [
       "id                        int64\n",
       "imdb_id                  object\n",
       "popularity              float64\n",
       "budget                    int64\n",
       "revenue                   int64\n",
       "original_title           object\n",
       "cast                     object\n",
       "homepage                 object\n",
       "director                 object\n",
       "tagline                  object\n",
       "keywords                 object\n",
       "overview                 object\n",
       "runtime                   int64\n",
       "genres                   object\n",
       "production_companies     object\n",
       "release_date             object\n",
       "vote_count                int64\n",
       "vote_average            float64\n",
       "release_year              int64\n",
       "budget_adj              float64\n",
       "revenue_adj             float64\n",
       "dtype: object"
      ]
     },
     "execution_count": 6,
     "metadata": {},
     "output_type": "execute_result"
    }
   ],
   "source": [
    "print(\"Types of data:\\n\")\n",
    "df.dtypes"
   ]
  },
  {
   "cell_type": "markdown",
   "metadata": {},
   "source": [
    "### * *Cleaning data*\n",
    "When the original dataframe is analyzed, it is possible to observe that there are many columns that are irrelevant to our study, so a new dataframe will be created with the columns arranged for proper understanding, and on which the cleaning process will begin."
   ]
  },
  {
   "cell_type": "code",
   "execution_count": 7,
   "metadata": {},
   "outputs": [
    {
     "data": {
      "text/html": [
       "<div>\n",
       "<style scoped>\n",
       "    .dataframe tbody tr th:only-of-type {\n",
       "        vertical-align: middle;\n",
       "    }\n",
       "\n",
       "    .dataframe tbody tr th {\n",
       "        vertical-align: top;\n",
       "    }\n",
       "\n",
       "    .dataframe thead th {\n",
       "        text-align: right;\n",
       "    }\n",
       "</style>\n",
       "<table border=\"1\" class=\"dataframe\">\n",
       "  <thead>\n",
       "    <tr style=\"text-align: right;\">\n",
       "      <th></th>\n",
       "      <th>original_title</th>\n",
       "      <th>director</th>\n",
       "      <th>cast</th>\n",
       "      <th>genres</th>\n",
       "      <th>production_companies</th>\n",
       "      <th>release_year</th>\n",
       "      <th>runtime</th>\n",
       "      <th>vote_count</th>\n",
       "      <th>vote_average</th>\n",
       "      <th>popularity</th>\n",
       "      <th>budget</th>\n",
       "      <th>revenue</th>\n",
       "      <th>budget_adj</th>\n",
       "      <th>revenue_adj</th>\n",
       "    </tr>\n",
       "  </thead>\n",
       "  <tbody>\n",
       "    <tr>\n",
       "      <th>0</th>\n",
       "      <td>Jurassic World</td>\n",
       "      <td>Colin Trevorrow</td>\n",
       "      <td>Chris Pratt|Bryce Dallas Howard|Irrfan Khan|Vi...</td>\n",
       "      <td>Action|Adventure|Science Fiction|Thriller</td>\n",
       "      <td>Universal Studios|Amblin Entertainment|Legenda...</td>\n",
       "      <td>2015</td>\n",
       "      <td>124</td>\n",
       "      <td>5562</td>\n",
       "      <td>6.5</td>\n",
       "      <td>32.985763</td>\n",
       "      <td>150000000</td>\n",
       "      <td>1513528810</td>\n",
       "      <td>1.379999e+08</td>\n",
       "      <td>1.392446e+09</td>\n",
       "    </tr>\n",
       "    <tr>\n",
       "      <th>1</th>\n",
       "      <td>Mad Max: Fury Road</td>\n",
       "      <td>George Miller</td>\n",
       "      <td>Tom Hardy|Charlize Theron|Hugh Keays-Byrne|Nic...</td>\n",
       "      <td>Action|Adventure|Science Fiction|Thriller</td>\n",
       "      <td>Village Roadshow Pictures|Kennedy Miller Produ...</td>\n",
       "      <td>2015</td>\n",
       "      <td>120</td>\n",
       "      <td>6185</td>\n",
       "      <td>7.1</td>\n",
       "      <td>28.419936</td>\n",
       "      <td>150000000</td>\n",
       "      <td>378436354</td>\n",
       "      <td>1.379999e+08</td>\n",
       "      <td>3.481613e+08</td>\n",
       "    </tr>\n",
       "    <tr>\n",
       "      <th>2</th>\n",
       "      <td>Insurgent</td>\n",
       "      <td>Robert Schwentke</td>\n",
       "      <td>Shailene Woodley|Theo James|Kate Winslet|Ansel...</td>\n",
       "      <td>Adventure|Science Fiction|Thriller</td>\n",
       "      <td>Summit Entertainment|Mandeville Films|Red Wago...</td>\n",
       "      <td>2015</td>\n",
       "      <td>119</td>\n",
       "      <td>2480</td>\n",
       "      <td>6.3</td>\n",
       "      <td>13.112507</td>\n",
       "      <td>110000000</td>\n",
       "      <td>295238201</td>\n",
       "      <td>1.012000e+08</td>\n",
       "      <td>2.716190e+08</td>\n",
       "    </tr>\n",
       "    <tr>\n",
       "      <th>3</th>\n",
       "      <td>Star Wars: The Force Awakens</td>\n",
       "      <td>J.J. Abrams</td>\n",
       "      <td>Harrison Ford|Mark Hamill|Carrie Fisher|Adam D...</td>\n",
       "      <td>Action|Adventure|Science Fiction|Fantasy</td>\n",
       "      <td>Lucasfilm|Truenorth Productions|Bad Robot</td>\n",
       "      <td>2015</td>\n",
       "      <td>136</td>\n",
       "      <td>5292</td>\n",
       "      <td>7.5</td>\n",
       "      <td>11.173104</td>\n",
       "      <td>200000000</td>\n",
       "      <td>2068178225</td>\n",
       "      <td>1.839999e+08</td>\n",
       "      <td>1.902723e+09</td>\n",
       "    </tr>\n",
       "    <tr>\n",
       "      <th>4</th>\n",
       "      <td>Furious 7</td>\n",
       "      <td>James Wan</td>\n",
       "      <td>Vin Diesel|Paul Walker|Jason Statham|Michelle ...</td>\n",
       "      <td>Action|Crime|Thriller</td>\n",
       "      <td>Universal Pictures|Original Film|Media Rights ...</td>\n",
       "      <td>2015</td>\n",
       "      <td>137</td>\n",
       "      <td>2947</td>\n",
       "      <td>7.3</td>\n",
       "      <td>9.335014</td>\n",
       "      <td>190000000</td>\n",
       "      <td>1506249360</td>\n",
       "      <td>1.747999e+08</td>\n",
       "      <td>1.385749e+09</td>\n",
       "    </tr>\n",
       "  </tbody>\n",
       "</table>\n",
       "</div>"
      ],
      "text/plain": [
       "                 original_title          director  \\\n",
       "0                Jurassic World   Colin Trevorrow   \n",
       "1            Mad Max: Fury Road     George Miller   \n",
       "2                     Insurgent  Robert Schwentke   \n",
       "3  Star Wars: The Force Awakens       J.J. Abrams   \n",
       "4                     Furious 7         James Wan   \n",
       "\n",
       "                                                cast  \\\n",
       "0  Chris Pratt|Bryce Dallas Howard|Irrfan Khan|Vi...   \n",
       "1  Tom Hardy|Charlize Theron|Hugh Keays-Byrne|Nic...   \n",
       "2  Shailene Woodley|Theo James|Kate Winslet|Ansel...   \n",
       "3  Harrison Ford|Mark Hamill|Carrie Fisher|Adam D...   \n",
       "4  Vin Diesel|Paul Walker|Jason Statham|Michelle ...   \n",
       "\n",
       "                                      genres  \\\n",
       "0  Action|Adventure|Science Fiction|Thriller   \n",
       "1  Action|Adventure|Science Fiction|Thriller   \n",
       "2         Adventure|Science Fiction|Thriller   \n",
       "3   Action|Adventure|Science Fiction|Fantasy   \n",
       "4                      Action|Crime|Thriller   \n",
       "\n",
       "                                production_companies  release_year  runtime  \\\n",
       "0  Universal Studios|Amblin Entertainment|Legenda...          2015      124   \n",
       "1  Village Roadshow Pictures|Kennedy Miller Produ...          2015      120   \n",
       "2  Summit Entertainment|Mandeville Films|Red Wago...          2015      119   \n",
       "3          Lucasfilm|Truenorth Productions|Bad Robot          2015      136   \n",
       "4  Universal Pictures|Original Film|Media Rights ...          2015      137   \n",
       "\n",
       "   vote_count  vote_average  popularity     budget     revenue    budget_adj  \\\n",
       "0        5562           6.5   32.985763  150000000  1513528810  1.379999e+08   \n",
       "1        6185           7.1   28.419936  150000000   378436354  1.379999e+08   \n",
       "2        2480           6.3   13.112507  110000000   295238201  1.012000e+08   \n",
       "3        5292           7.5   11.173104  200000000  2068178225  1.839999e+08   \n",
       "4        2947           7.3    9.335014  190000000  1506249360  1.747999e+08   \n",
       "\n",
       "    revenue_adj  \n",
       "0  1.392446e+09  \n",
       "1  3.481613e+08  \n",
       "2  2.716190e+08  \n",
       "3  1.902723e+09  \n",
       "4  1.385749e+09  "
      ]
     },
     "execution_count": 7,
     "metadata": {},
     "output_type": "execute_result"
    }
   ],
   "source": [
    "#Dataframe \"df_fixed\" only contains the columns that we will use, this is done to save the original dataframe.\n",
    "df_fixed = df[[\"original_title\",\"director\",\"cast\",\"genres\",\"production_companies\",\"release_year\",\"runtime\",\"vote_count\",\"vote_average\",\"popularity\",\"budget\",\"revenue\",\"budget_adj\",\"revenue_adj\"]]\n",
    "df_fixed.head()"
   ]
  },
  {
   "cell_type": "code",
   "execution_count": 8,
   "metadata": {},
   "outputs": [
    {
     "name": "stdout",
     "output_type": "stream",
     "text": [
      "The new dataframe has (10866, 14) rows and columns\n"
     ]
    }
   ],
   "source": [
    "print(\"The new dataframe has\", df_fixed.shape, \"rows and columns\")"
   ]
  },
  {
   "cell_type": "code",
   "execution_count": 9,
   "metadata": {},
   "outputs": [
    {
     "name": "stdout",
     "output_type": "stream",
     "text": [
      "The new dataframe has 1 elements repeated\n"
     ]
    }
   ],
   "source": [
    "print(\"The new dataframe has {} elements repeated\".format(df_fixed.duplicated().sum()))"
   ]
  },
  {
   "cell_type": "code",
   "execution_count": 10,
   "metadata": {},
   "outputs": [
    {
     "name": "stdout",
     "output_type": "stream",
     "text": [
      "Elements Nan/null:\n",
      "\n"
     ]
    },
    {
     "data": {
      "text/plain": [
       "original_title             0\n",
       "director                  44\n",
       "cast                      76\n",
       "genres                    23\n",
       "production_companies    1030\n",
       "release_year               0\n",
       "runtime                    0\n",
       "vote_count                 0\n",
       "vote_average               0\n",
       "popularity                 0\n",
       "budget                     0\n",
       "revenue                    0\n",
       "budget_adj                 0\n",
       "revenue_adj                0\n",
       "dtype: int64"
      ]
     },
     "execution_count": 10,
     "metadata": {},
     "output_type": "execute_result"
    }
   ],
   "source": [
    "print(\"Elements Nan/null:\\n\")\n",
    "df_fixed.isnull().sum()"
   ]
  },
  {
   "cell_type": "code",
   "execution_count": 11,
   "metadata": {},
   "outputs": [
    {
     "name": "stdout",
     "output_type": "stream",
     "text": [
      "Types of data:\n",
      "\n"
     ]
    },
    {
     "data": {
      "text/plain": [
       "original_title           object\n",
       "director                 object\n",
       "cast                     object\n",
       "genres                   object\n",
       "production_companies     object\n",
       "release_year              int64\n",
       "runtime                   int64\n",
       "vote_count                int64\n",
       "vote_average            float64\n",
       "popularity              float64\n",
       "budget                    int64\n",
       "revenue                   int64\n",
       "budget_adj              float64\n",
       "revenue_adj             float64\n",
       "dtype: object"
      ]
     },
     "execution_count": 11,
     "metadata": {},
     "output_type": "execute_result"
    }
   ],
   "source": [
    "print(\"Types of data:\\n\")\n",
    "df_fixed.dtypes"
   ]
  },
  {
   "cell_type": "markdown",
   "metadata": {},
   "source": [
    "There are a total of 10866 data, and those that are of type \"int\" or \"float\" are not with NaN/null values. Since it is difficult to create a replacement criterion for \"str\" values, and the fact that there are so few data, it has been decided to eliminate those rows containing this data in the \"director\", \"genres\" and \"cast\" columns (the \"production_companies\" column is left with null values in this moment, since there are too many to eliminate, and its Nan/null values do not influence the studies)."
   ]
  },
  {
   "cell_type": "code",
   "execution_count": 12,
   "metadata": {},
   "outputs": [
    {
     "data": {
      "text/plain": [
       "(10731, 14)"
      ]
     },
     "execution_count": 12,
     "metadata": {},
     "output_type": "execute_result"
    }
   ],
   "source": [
    "# A new dataframe called \"dff\" is made with the arranged data.\n",
    "dff = df_fixed.drop_duplicates().dropna(subset=[\"director\", \"genres\", \"cast\"])\n",
    "dff.shape"
   ]
  },
  {
   "cell_type": "markdown",
   "metadata": {},
   "source": [
    "As can be seen, only a total of 135 data is lost (equivalent to only 1.24% of the total data), which indicates that it is a good decision (according to the author of this analysis)."
   ]
  },
  {
   "cell_type": "markdown",
   "metadata": {},
   "source": [
    "We will add the \"Profit\" column, which is the result of \"revenue\" - \"budget\""
   ]
  },
  {
   "cell_type": "code",
   "execution_count": 13,
   "metadata": {
    "scrolled": true
   },
   "outputs": [
    {
     "data": {
      "text/html": [
       "<div>\n",
       "<style scoped>\n",
       "    .dataframe tbody tr th:only-of-type {\n",
       "        vertical-align: middle;\n",
       "    }\n",
       "\n",
       "    .dataframe tbody tr th {\n",
       "        vertical-align: top;\n",
       "    }\n",
       "\n",
       "    .dataframe thead th {\n",
       "        text-align: right;\n",
       "    }\n",
       "</style>\n",
       "<table border=\"1\" class=\"dataframe\">\n",
       "  <thead>\n",
       "    <tr style=\"text-align: right;\">\n",
       "      <th></th>\n",
       "      <th>original_title</th>\n",
       "      <th>director</th>\n",
       "      <th>cast</th>\n",
       "      <th>genres</th>\n",
       "      <th>production_companies</th>\n",
       "      <th>release_year</th>\n",
       "      <th>runtime</th>\n",
       "      <th>vote_count</th>\n",
       "      <th>vote_average</th>\n",
       "      <th>popularity</th>\n",
       "      <th>budget</th>\n",
       "      <th>revenue</th>\n",
       "      <th>budget_adj</th>\n",
       "      <th>revenue_adj</th>\n",
       "      <th>profit</th>\n",
       "    </tr>\n",
       "  </thead>\n",
       "  <tbody>\n",
       "    <tr>\n",
       "      <th>0</th>\n",
       "      <td>Jurassic World</td>\n",
       "      <td>Colin Trevorrow</td>\n",
       "      <td>Chris Pratt|Bryce Dallas Howard|Irrfan Khan|Vi...</td>\n",
       "      <td>Action|Adventure|Science Fiction|Thriller</td>\n",
       "      <td>Universal Studios|Amblin Entertainment|Legenda...</td>\n",
       "      <td>2015</td>\n",
       "      <td>124</td>\n",
       "      <td>5562</td>\n",
       "      <td>6.5</td>\n",
       "      <td>32.985763</td>\n",
       "      <td>150000000</td>\n",
       "      <td>1513528810</td>\n",
       "      <td>1.379999e+08</td>\n",
       "      <td>1.392446e+09</td>\n",
       "      <td>1363528810</td>\n",
       "    </tr>\n",
       "    <tr>\n",
       "      <th>1</th>\n",
       "      <td>Mad Max: Fury Road</td>\n",
       "      <td>George Miller</td>\n",
       "      <td>Tom Hardy|Charlize Theron|Hugh Keays-Byrne|Nic...</td>\n",
       "      <td>Action|Adventure|Science Fiction|Thriller</td>\n",
       "      <td>Village Roadshow Pictures|Kennedy Miller Produ...</td>\n",
       "      <td>2015</td>\n",
       "      <td>120</td>\n",
       "      <td>6185</td>\n",
       "      <td>7.1</td>\n",
       "      <td>28.419936</td>\n",
       "      <td>150000000</td>\n",
       "      <td>378436354</td>\n",
       "      <td>1.379999e+08</td>\n",
       "      <td>3.481613e+08</td>\n",
       "      <td>228436354</td>\n",
       "    </tr>\n",
       "    <tr>\n",
       "      <th>2</th>\n",
       "      <td>Insurgent</td>\n",
       "      <td>Robert Schwentke</td>\n",
       "      <td>Shailene Woodley|Theo James|Kate Winslet|Ansel...</td>\n",
       "      <td>Adventure|Science Fiction|Thriller</td>\n",
       "      <td>Summit Entertainment|Mandeville Films|Red Wago...</td>\n",
       "      <td>2015</td>\n",
       "      <td>119</td>\n",
       "      <td>2480</td>\n",
       "      <td>6.3</td>\n",
       "      <td>13.112507</td>\n",
       "      <td>110000000</td>\n",
       "      <td>295238201</td>\n",
       "      <td>1.012000e+08</td>\n",
       "      <td>2.716190e+08</td>\n",
       "      <td>185238201</td>\n",
       "    </tr>\n",
       "    <tr>\n",
       "      <th>3</th>\n",
       "      <td>Star Wars: The Force Awakens</td>\n",
       "      <td>J.J. Abrams</td>\n",
       "      <td>Harrison Ford|Mark Hamill|Carrie Fisher|Adam D...</td>\n",
       "      <td>Action|Adventure|Science Fiction|Fantasy</td>\n",
       "      <td>Lucasfilm|Truenorth Productions|Bad Robot</td>\n",
       "      <td>2015</td>\n",
       "      <td>136</td>\n",
       "      <td>5292</td>\n",
       "      <td>7.5</td>\n",
       "      <td>11.173104</td>\n",
       "      <td>200000000</td>\n",
       "      <td>2068178225</td>\n",
       "      <td>1.839999e+08</td>\n",
       "      <td>1.902723e+09</td>\n",
       "      <td>1868178225</td>\n",
       "    </tr>\n",
       "    <tr>\n",
       "      <th>4</th>\n",
       "      <td>Furious 7</td>\n",
       "      <td>James Wan</td>\n",
       "      <td>Vin Diesel|Paul Walker|Jason Statham|Michelle ...</td>\n",
       "      <td>Action|Crime|Thriller</td>\n",
       "      <td>Universal Pictures|Original Film|Media Rights ...</td>\n",
       "      <td>2015</td>\n",
       "      <td>137</td>\n",
       "      <td>2947</td>\n",
       "      <td>7.3</td>\n",
       "      <td>9.335014</td>\n",
       "      <td>190000000</td>\n",
       "      <td>1506249360</td>\n",
       "      <td>1.747999e+08</td>\n",
       "      <td>1.385749e+09</td>\n",
       "      <td>1316249360</td>\n",
       "    </tr>\n",
       "  </tbody>\n",
       "</table>\n",
       "</div>"
      ],
      "text/plain": [
       "                 original_title          director  \\\n",
       "0                Jurassic World   Colin Trevorrow   \n",
       "1            Mad Max: Fury Road     George Miller   \n",
       "2                     Insurgent  Robert Schwentke   \n",
       "3  Star Wars: The Force Awakens       J.J. Abrams   \n",
       "4                     Furious 7         James Wan   \n",
       "\n",
       "                                                cast  \\\n",
       "0  Chris Pratt|Bryce Dallas Howard|Irrfan Khan|Vi...   \n",
       "1  Tom Hardy|Charlize Theron|Hugh Keays-Byrne|Nic...   \n",
       "2  Shailene Woodley|Theo James|Kate Winslet|Ansel...   \n",
       "3  Harrison Ford|Mark Hamill|Carrie Fisher|Adam D...   \n",
       "4  Vin Diesel|Paul Walker|Jason Statham|Michelle ...   \n",
       "\n",
       "                                      genres  \\\n",
       "0  Action|Adventure|Science Fiction|Thriller   \n",
       "1  Action|Adventure|Science Fiction|Thriller   \n",
       "2         Adventure|Science Fiction|Thriller   \n",
       "3   Action|Adventure|Science Fiction|Fantasy   \n",
       "4                      Action|Crime|Thriller   \n",
       "\n",
       "                                production_companies  release_year  runtime  \\\n",
       "0  Universal Studios|Amblin Entertainment|Legenda...          2015      124   \n",
       "1  Village Roadshow Pictures|Kennedy Miller Produ...          2015      120   \n",
       "2  Summit Entertainment|Mandeville Films|Red Wago...          2015      119   \n",
       "3          Lucasfilm|Truenorth Productions|Bad Robot          2015      136   \n",
       "4  Universal Pictures|Original Film|Media Rights ...          2015      137   \n",
       "\n",
       "   vote_count  vote_average  popularity     budget     revenue    budget_adj  \\\n",
       "0        5562           6.5   32.985763  150000000  1513528810  1.379999e+08   \n",
       "1        6185           7.1   28.419936  150000000   378436354  1.379999e+08   \n",
       "2        2480           6.3   13.112507  110000000   295238201  1.012000e+08   \n",
       "3        5292           7.5   11.173104  200000000  2068178225  1.839999e+08   \n",
       "4        2947           7.3    9.335014  190000000  1506249360  1.747999e+08   \n",
       "\n",
       "    revenue_adj      profit  \n",
       "0  1.392446e+09  1363528810  \n",
       "1  3.481613e+08   228436354  \n",
       "2  2.716190e+08   185238201  \n",
       "3  1.902723e+09  1868178225  \n",
       "4  1.385749e+09  1316249360  "
      ]
     },
     "execution_count": 13,
     "metadata": {},
     "output_type": "execute_result"
    }
   ],
   "source": [
    "dff[\"profit\"] = dff[\"revenue\"] - dff[\"budget\"]\n",
    "dff.head()"
   ]
  },
  {
   "cell_type": "markdown",
   "metadata": {},
   "source": [
    "There are 4 columns with multidata cells separated only by \"|\" (\"director, \"cast\", \"genres\" and \"production_companies\"). To separate this data, we will create temporary dataframes that will help us analyze this specific data."
   ]
  },
  {
   "cell_type": "code",
   "execution_count": 14,
   "metadata": {},
   "outputs": [
    {
     "data": {
      "text/html": [
       "<div>\n",
       "<style scoped>\n",
       "    .dataframe tbody tr th:only-of-type {\n",
       "        vertical-align: middle;\n",
       "    }\n",
       "\n",
       "    .dataframe tbody tr th {\n",
       "        vertical-align: top;\n",
       "    }\n",
       "\n",
       "    .dataframe thead th {\n",
       "        text-align: right;\n",
       "    }\n",
       "</style>\n",
       "<table border=\"1\" class=\"dataframe\">\n",
       "  <thead>\n",
       "    <tr style=\"text-align: right;\">\n",
       "      <th></th>\n",
       "      <th>original_title</th>\n",
       "      <th>director</th>\n",
       "      <th>cast</th>\n",
       "      <th>production_companies</th>\n",
       "      <th>release_year</th>\n",
       "      <th>runtime</th>\n",
       "      <th>vote_count</th>\n",
       "      <th>vote_average</th>\n",
       "      <th>popularity</th>\n",
       "      <th>budget</th>\n",
       "      <th>revenue</th>\n",
       "      <th>budget_adj</th>\n",
       "      <th>revenue_adj</th>\n",
       "      <th>profit</th>\n",
       "      <th>genre_split</th>\n",
       "    </tr>\n",
       "  </thead>\n",
       "  <tbody>\n",
       "    <tr>\n",
       "      <th>0</th>\n",
       "      <td>Jurassic World</td>\n",
       "      <td>Colin Trevorrow</td>\n",
       "      <td>Chris Pratt|Bryce Dallas Howard|Irrfan Khan|Vi...</td>\n",
       "      <td>Universal Studios|Amblin Entertainment|Legenda...</td>\n",
       "      <td>2015</td>\n",
       "      <td>124</td>\n",
       "      <td>5562</td>\n",
       "      <td>6.5</td>\n",
       "      <td>32.985763</td>\n",
       "      <td>150000000</td>\n",
       "      <td>1513528810</td>\n",
       "      <td>1.379999e+08</td>\n",
       "      <td>1.392446e+09</td>\n",
       "      <td>1363528810</td>\n",
       "      <td>Action</td>\n",
       "    </tr>\n",
       "    <tr>\n",
       "      <th>0</th>\n",
       "      <td>Jurassic World</td>\n",
       "      <td>Colin Trevorrow</td>\n",
       "      <td>Chris Pratt|Bryce Dallas Howard|Irrfan Khan|Vi...</td>\n",
       "      <td>Universal Studios|Amblin Entertainment|Legenda...</td>\n",
       "      <td>2015</td>\n",
       "      <td>124</td>\n",
       "      <td>5562</td>\n",
       "      <td>6.5</td>\n",
       "      <td>32.985763</td>\n",
       "      <td>150000000</td>\n",
       "      <td>1513528810</td>\n",
       "      <td>1.379999e+08</td>\n",
       "      <td>1.392446e+09</td>\n",
       "      <td>1363528810</td>\n",
       "      <td>Adventure</td>\n",
       "    </tr>\n",
       "    <tr>\n",
       "      <th>0</th>\n",
       "      <td>Jurassic World</td>\n",
       "      <td>Colin Trevorrow</td>\n",
       "      <td>Chris Pratt|Bryce Dallas Howard|Irrfan Khan|Vi...</td>\n",
       "      <td>Universal Studios|Amblin Entertainment|Legenda...</td>\n",
       "      <td>2015</td>\n",
       "      <td>124</td>\n",
       "      <td>5562</td>\n",
       "      <td>6.5</td>\n",
       "      <td>32.985763</td>\n",
       "      <td>150000000</td>\n",
       "      <td>1513528810</td>\n",
       "      <td>1.379999e+08</td>\n",
       "      <td>1.392446e+09</td>\n",
       "      <td>1363528810</td>\n",
       "      <td>Science Fiction</td>\n",
       "    </tr>\n",
       "    <tr>\n",
       "      <th>0</th>\n",
       "      <td>Jurassic World</td>\n",
       "      <td>Colin Trevorrow</td>\n",
       "      <td>Chris Pratt|Bryce Dallas Howard|Irrfan Khan|Vi...</td>\n",
       "      <td>Universal Studios|Amblin Entertainment|Legenda...</td>\n",
       "      <td>2015</td>\n",
       "      <td>124</td>\n",
       "      <td>5562</td>\n",
       "      <td>6.5</td>\n",
       "      <td>32.985763</td>\n",
       "      <td>150000000</td>\n",
       "      <td>1513528810</td>\n",
       "      <td>1.379999e+08</td>\n",
       "      <td>1.392446e+09</td>\n",
       "      <td>1363528810</td>\n",
       "      <td>Thriller</td>\n",
       "    </tr>\n",
       "    <tr>\n",
       "      <th>1</th>\n",
       "      <td>Mad Max: Fury Road</td>\n",
       "      <td>George Miller</td>\n",
       "      <td>Tom Hardy|Charlize Theron|Hugh Keays-Byrne|Nic...</td>\n",
       "      <td>Village Roadshow Pictures|Kennedy Miller Produ...</td>\n",
       "      <td>2015</td>\n",
       "      <td>120</td>\n",
       "      <td>6185</td>\n",
       "      <td>7.1</td>\n",
       "      <td>28.419936</td>\n",
       "      <td>150000000</td>\n",
       "      <td>378436354</td>\n",
       "      <td>1.379999e+08</td>\n",
       "      <td>3.481613e+08</td>\n",
       "      <td>228436354</td>\n",
       "      <td>Action</td>\n",
       "    </tr>\n",
       "  </tbody>\n",
       "</table>\n",
       "</div>"
      ],
      "text/plain": [
       "       original_title         director  \\\n",
       "0      Jurassic World  Colin Trevorrow   \n",
       "0      Jurassic World  Colin Trevorrow   \n",
       "0      Jurassic World  Colin Trevorrow   \n",
       "0      Jurassic World  Colin Trevorrow   \n",
       "1  Mad Max: Fury Road    George Miller   \n",
       "\n",
       "                                                cast  \\\n",
       "0  Chris Pratt|Bryce Dallas Howard|Irrfan Khan|Vi...   \n",
       "0  Chris Pratt|Bryce Dallas Howard|Irrfan Khan|Vi...   \n",
       "0  Chris Pratt|Bryce Dallas Howard|Irrfan Khan|Vi...   \n",
       "0  Chris Pratt|Bryce Dallas Howard|Irrfan Khan|Vi...   \n",
       "1  Tom Hardy|Charlize Theron|Hugh Keays-Byrne|Nic...   \n",
       "\n",
       "                                production_companies  release_year  runtime  \\\n",
       "0  Universal Studios|Amblin Entertainment|Legenda...          2015      124   \n",
       "0  Universal Studios|Amblin Entertainment|Legenda...          2015      124   \n",
       "0  Universal Studios|Amblin Entertainment|Legenda...          2015      124   \n",
       "0  Universal Studios|Amblin Entertainment|Legenda...          2015      124   \n",
       "1  Village Roadshow Pictures|Kennedy Miller Produ...          2015      120   \n",
       "\n",
       "   vote_count  vote_average  popularity     budget     revenue    budget_adj  \\\n",
       "0        5562           6.5   32.985763  150000000  1513528810  1.379999e+08   \n",
       "0        5562           6.5   32.985763  150000000  1513528810  1.379999e+08   \n",
       "0        5562           6.5   32.985763  150000000  1513528810  1.379999e+08   \n",
       "0        5562           6.5   32.985763  150000000  1513528810  1.379999e+08   \n",
       "1        6185           7.1   28.419936  150000000   378436354  1.379999e+08   \n",
       "\n",
       "    revenue_adj      profit      genre_split  \n",
       "0  1.392446e+09  1363528810           Action  \n",
       "0  1.392446e+09  1363528810        Adventure  \n",
       "0  1.392446e+09  1363528810  Science Fiction  \n",
       "0  1.392446e+09  1363528810         Thriller  \n",
       "1  3.481613e+08   228436354           Action  "
      ]
     },
     "execution_count": 14,
     "metadata": {},
     "output_type": "execute_result"
    }
   ],
   "source": [
    "###Procedure to filter \"genres\" column.\n",
    "\n",
    "# Create a copy (called \"df_split_genre\") of the clean dataframe (called \"dff\")\n",
    "df_split_genre = dff.copy()\n",
    "\n",
    "# From the copied dataframe, i create a column with the data of the old \"genre\" column but separated.\n",
    "split_genre = df_split_genre[\"genres\"].str.split(\"|\").apply(pd.Series, 1).stack().reset_index(level=1, drop=True)\n",
    "\n",
    "#Rename the new column\n",
    "split_genre.name = \"genre_split\"\n",
    "\n",
    "#I delete the old \"genre\" column and add the new column with the fixed data.\n",
    "df_split_genre = df_split_genre.drop([\"genres\"], axis=1).join(split_genre)\n",
    "\n",
    "#Show the dataframe\n",
    "df_split_genre.head()"
   ]
  },
  {
   "cell_type": "code",
   "execution_count": 15,
   "metadata": {},
   "outputs": [
    {
     "name": "stdout",
     "output_type": "stream",
     "text": [
      "<class 'pandas.core.frame.DataFrame'>\n",
      "Int64Index: 26753 entries, 0 to 10865\n",
      "Data columns (total 15 columns):\n",
      " #   Column                Non-Null Count  Dtype  \n",
      "---  ------                --------------  -----  \n",
      " 0   original_title        26753 non-null  object \n",
      " 1   director              26753 non-null  object \n",
      " 2   cast                  26753 non-null  object \n",
      " 3   production_companies  24650 non-null  object \n",
      " 4   release_year          26753 non-null  int64  \n",
      " 5   runtime               26753 non-null  int64  \n",
      " 6   vote_count            26753 non-null  int64  \n",
      " 7   vote_average          26753 non-null  float64\n",
      " 8   popularity            26753 non-null  float64\n",
      " 9   budget                26753 non-null  int64  \n",
      " 10  revenue               26753 non-null  int64  \n",
      " 11  budget_adj            26753 non-null  float64\n",
      " 12  revenue_adj           26753 non-null  float64\n",
      " 13  profit                26753 non-null  int64  \n",
      " 14  genre_split           26753 non-null  object \n",
      "dtypes: float64(4), int64(6), object(5)\n",
      "memory usage: 3.3+ MB\n"
     ]
    },
    {
     "data": {
      "text/plain": [
       "0"
      ]
     },
     "execution_count": 15,
     "metadata": {},
     "output_type": "execute_result"
    }
   ],
   "source": [
    "#Comprobation about the dataframe\n",
    "df_split_genre.isnull().sum() #No Nan/null data (except the production companies)\n",
    "df_split_genre.info()\n",
    "df_split_genre.shape #Has 26753 rows and 14 columns\n",
    "sum(df_split_genre.duplicated()) #No duplicated data"
   ]
  },
  {
   "cell_type": "code",
   "execution_count": 16,
   "metadata": {
    "scrolled": true
   },
   "outputs": [
    {
     "data": {
      "text/html": [
       "<div>\n",
       "<style scoped>\n",
       "    .dataframe tbody tr th:only-of-type {\n",
       "        vertical-align: middle;\n",
       "    }\n",
       "\n",
       "    .dataframe tbody tr th {\n",
       "        vertical-align: top;\n",
       "    }\n",
       "\n",
       "    .dataframe thead th {\n",
       "        text-align: right;\n",
       "    }\n",
       "</style>\n",
       "<table border=\"1\" class=\"dataframe\">\n",
       "  <thead>\n",
       "    <tr style=\"text-align: right;\">\n",
       "      <th></th>\n",
       "      <th>original_title</th>\n",
       "      <th>director</th>\n",
       "      <th>genres</th>\n",
       "      <th>production_companies</th>\n",
       "      <th>release_year</th>\n",
       "      <th>runtime</th>\n",
       "      <th>vote_count</th>\n",
       "      <th>vote_average</th>\n",
       "      <th>popularity</th>\n",
       "      <th>budget</th>\n",
       "      <th>revenue</th>\n",
       "      <th>budget_adj</th>\n",
       "      <th>revenue_adj</th>\n",
       "      <th>profit</th>\n",
       "      <th>cast_split</th>\n",
       "    </tr>\n",
       "  </thead>\n",
       "  <tbody>\n",
       "    <tr>\n",
       "      <th>0</th>\n",
       "      <td>Jurassic World</td>\n",
       "      <td>Colin Trevorrow</td>\n",
       "      <td>Action|Adventure|Science Fiction|Thriller</td>\n",
       "      <td>Universal Studios|Amblin Entertainment|Legenda...</td>\n",
       "      <td>2015</td>\n",
       "      <td>124</td>\n",
       "      <td>5562</td>\n",
       "      <td>6.5</td>\n",
       "      <td>32.985763</td>\n",
       "      <td>150000000</td>\n",
       "      <td>1513528810</td>\n",
       "      <td>1.379999e+08</td>\n",
       "      <td>1.392446e+09</td>\n",
       "      <td>1363528810</td>\n",
       "      <td>Chris Pratt</td>\n",
       "    </tr>\n",
       "    <tr>\n",
       "      <th>0</th>\n",
       "      <td>Jurassic World</td>\n",
       "      <td>Colin Trevorrow</td>\n",
       "      <td>Action|Adventure|Science Fiction|Thriller</td>\n",
       "      <td>Universal Studios|Amblin Entertainment|Legenda...</td>\n",
       "      <td>2015</td>\n",
       "      <td>124</td>\n",
       "      <td>5562</td>\n",
       "      <td>6.5</td>\n",
       "      <td>32.985763</td>\n",
       "      <td>150000000</td>\n",
       "      <td>1513528810</td>\n",
       "      <td>1.379999e+08</td>\n",
       "      <td>1.392446e+09</td>\n",
       "      <td>1363528810</td>\n",
       "      <td>Bryce Dallas Howard</td>\n",
       "    </tr>\n",
       "    <tr>\n",
       "      <th>0</th>\n",
       "      <td>Jurassic World</td>\n",
       "      <td>Colin Trevorrow</td>\n",
       "      <td>Action|Adventure|Science Fiction|Thriller</td>\n",
       "      <td>Universal Studios|Amblin Entertainment|Legenda...</td>\n",
       "      <td>2015</td>\n",
       "      <td>124</td>\n",
       "      <td>5562</td>\n",
       "      <td>6.5</td>\n",
       "      <td>32.985763</td>\n",
       "      <td>150000000</td>\n",
       "      <td>1513528810</td>\n",
       "      <td>1.379999e+08</td>\n",
       "      <td>1.392446e+09</td>\n",
       "      <td>1363528810</td>\n",
       "      <td>Irrfan Khan</td>\n",
       "    </tr>\n",
       "    <tr>\n",
       "      <th>0</th>\n",
       "      <td>Jurassic World</td>\n",
       "      <td>Colin Trevorrow</td>\n",
       "      <td>Action|Adventure|Science Fiction|Thriller</td>\n",
       "      <td>Universal Studios|Amblin Entertainment|Legenda...</td>\n",
       "      <td>2015</td>\n",
       "      <td>124</td>\n",
       "      <td>5562</td>\n",
       "      <td>6.5</td>\n",
       "      <td>32.985763</td>\n",
       "      <td>150000000</td>\n",
       "      <td>1513528810</td>\n",
       "      <td>1.379999e+08</td>\n",
       "      <td>1.392446e+09</td>\n",
       "      <td>1363528810</td>\n",
       "      <td>Vincent D'Onofrio</td>\n",
       "    </tr>\n",
       "    <tr>\n",
       "      <th>0</th>\n",
       "      <td>Jurassic World</td>\n",
       "      <td>Colin Trevorrow</td>\n",
       "      <td>Action|Adventure|Science Fiction|Thriller</td>\n",
       "      <td>Universal Studios|Amblin Entertainment|Legenda...</td>\n",
       "      <td>2015</td>\n",
       "      <td>124</td>\n",
       "      <td>5562</td>\n",
       "      <td>6.5</td>\n",
       "      <td>32.985763</td>\n",
       "      <td>150000000</td>\n",
       "      <td>1513528810</td>\n",
       "      <td>1.379999e+08</td>\n",
       "      <td>1.392446e+09</td>\n",
       "      <td>1363528810</td>\n",
       "      <td>Nick Robinson</td>\n",
       "    </tr>\n",
       "  </tbody>\n",
       "</table>\n",
       "</div>"
      ],
      "text/plain": [
       "   original_title         director                                     genres  \\\n",
       "0  Jurassic World  Colin Trevorrow  Action|Adventure|Science Fiction|Thriller   \n",
       "0  Jurassic World  Colin Trevorrow  Action|Adventure|Science Fiction|Thriller   \n",
       "0  Jurassic World  Colin Trevorrow  Action|Adventure|Science Fiction|Thriller   \n",
       "0  Jurassic World  Colin Trevorrow  Action|Adventure|Science Fiction|Thriller   \n",
       "0  Jurassic World  Colin Trevorrow  Action|Adventure|Science Fiction|Thriller   \n",
       "\n",
       "                                production_companies  release_year  runtime  \\\n",
       "0  Universal Studios|Amblin Entertainment|Legenda...          2015      124   \n",
       "0  Universal Studios|Amblin Entertainment|Legenda...          2015      124   \n",
       "0  Universal Studios|Amblin Entertainment|Legenda...          2015      124   \n",
       "0  Universal Studios|Amblin Entertainment|Legenda...          2015      124   \n",
       "0  Universal Studios|Amblin Entertainment|Legenda...          2015      124   \n",
       "\n",
       "   vote_count  vote_average  popularity     budget     revenue    budget_adj  \\\n",
       "0        5562           6.5   32.985763  150000000  1513528810  1.379999e+08   \n",
       "0        5562           6.5   32.985763  150000000  1513528810  1.379999e+08   \n",
       "0        5562           6.5   32.985763  150000000  1513528810  1.379999e+08   \n",
       "0        5562           6.5   32.985763  150000000  1513528810  1.379999e+08   \n",
       "0        5562           6.5   32.985763  150000000  1513528810  1.379999e+08   \n",
       "\n",
       "    revenue_adj      profit           cast_split  \n",
       "0  1.392446e+09  1363528810          Chris Pratt  \n",
       "0  1.392446e+09  1363528810  Bryce Dallas Howard  \n",
       "0  1.392446e+09  1363528810          Irrfan Khan  \n",
       "0  1.392446e+09  1363528810    Vincent D'Onofrio  \n",
       "0  1.392446e+09  1363528810        Nick Robinson  "
      ]
     },
     "execution_count": 16,
     "metadata": {},
     "output_type": "execute_result"
    }
   ],
   "source": [
    "###Procedure to filter \"cast\" column.\n",
    "\n",
    "# Create a copy (called \"df_split_cast\") of the clean dataframe (called \"dff\")\n",
    "df_split_cast = dff.copy()\n",
    "\n",
    "# From the copied dataframe, i create a column with the data of the old \"cast\" column but separated.\n",
    "split_cast = df_split_cast['cast'].str.split('|').apply(pd.Series, 1).stack().reset_index(level=1, drop=True)\n",
    "\n",
    "#Rename the new column\n",
    "split_cast.name = 'cast_split'\n",
    "\n",
    "#I delete the old \"cast\" column and add the new column with the fixed data\n",
    "df_split_cast = df_split_cast.drop(['cast'], axis=1).join(split_cast)\n",
    "\n",
    "#Show the dataframe\n",
    "df_split_cast.head()"
   ]
  },
  {
   "cell_type": "code",
   "execution_count": 17,
   "metadata": {},
   "outputs": [
    {
     "name": "stdout",
     "output_type": "stream",
     "text": [
      "<class 'pandas.core.frame.DataFrame'>\n",
      "Int64Index: 52334 entries, 0 to 10865\n",
      "Data columns (total 15 columns):\n",
      " #   Column                Non-Null Count  Dtype  \n",
      "---  ------                --------------  -----  \n",
      " 0   original_title        52334 non-null  object \n",
      " 1   director              52334 non-null  object \n",
      " 2   genres                52334 non-null  object \n",
      " 3   production_companies  48020 non-null  object \n",
      " 4   release_year          52334 non-null  int64  \n",
      " 5   runtime               52334 non-null  int64  \n",
      " 6   vote_count            52334 non-null  int64  \n",
      " 7   vote_average          52334 non-null  float64\n",
      " 8   popularity            52334 non-null  float64\n",
      " 9   budget                52334 non-null  int64  \n",
      " 10  revenue               52334 non-null  int64  \n",
      " 11  budget_adj            52334 non-null  float64\n",
      " 12  revenue_adj           52334 non-null  float64\n",
      " 13  profit                52334 non-null  int64  \n",
      " 14  cast_split            52334 non-null  object \n",
      "dtypes: float64(4), int64(6), object(5)\n",
      "memory usage: 6.4+ MB\n"
     ]
    },
    {
     "data": {
      "text/plain": [
       "0"
      ]
     },
     "execution_count": 17,
     "metadata": {},
     "output_type": "execute_result"
    }
   ],
   "source": [
    "#Comprobation about the dataframe\n",
    "df_split_cast.isnull().sum() #No Nan/null data (except the production companies)\n",
    "df_split_cast.info()\n",
    "df_split_cast.shape #Has 52334 rows and 14 columns\n",
    "sum(df_split_genre.duplicated()) #No duplicated data"
   ]
  },
  {
   "cell_type": "code",
   "execution_count": 18,
   "metadata": {},
   "outputs": [
    {
     "data": {
      "text/html": [
       "<div>\n",
       "<style scoped>\n",
       "    .dataframe tbody tr th:only-of-type {\n",
       "        vertical-align: middle;\n",
       "    }\n",
       "\n",
       "    .dataframe tbody tr th {\n",
       "        vertical-align: top;\n",
       "    }\n",
       "\n",
       "    .dataframe thead th {\n",
       "        text-align: right;\n",
       "    }\n",
       "</style>\n",
       "<table border=\"1\" class=\"dataframe\">\n",
       "  <thead>\n",
       "    <tr style=\"text-align: right;\">\n",
       "      <th></th>\n",
       "      <th>original_title</th>\n",
       "      <th>cast</th>\n",
       "      <th>genres</th>\n",
       "      <th>production_companies</th>\n",
       "      <th>release_year</th>\n",
       "      <th>runtime</th>\n",
       "      <th>vote_count</th>\n",
       "      <th>vote_average</th>\n",
       "      <th>popularity</th>\n",
       "      <th>budget</th>\n",
       "      <th>revenue</th>\n",
       "      <th>budget_adj</th>\n",
       "      <th>revenue_adj</th>\n",
       "      <th>profit</th>\n",
       "      <th>director_split</th>\n",
       "    </tr>\n",
       "  </thead>\n",
       "  <tbody>\n",
       "    <tr>\n",
       "      <th>0</th>\n",
       "      <td>Jurassic World</td>\n",
       "      <td>Chris Pratt|Bryce Dallas Howard|Irrfan Khan|Vi...</td>\n",
       "      <td>Action|Adventure|Science Fiction|Thriller</td>\n",
       "      <td>Universal Studios|Amblin Entertainment|Legenda...</td>\n",
       "      <td>2015</td>\n",
       "      <td>124</td>\n",
       "      <td>5562</td>\n",
       "      <td>6.5</td>\n",
       "      <td>32.985763</td>\n",
       "      <td>150000000</td>\n",
       "      <td>1513528810</td>\n",
       "      <td>1.379999e+08</td>\n",
       "      <td>1.392446e+09</td>\n",
       "      <td>1363528810</td>\n",
       "      <td>Colin Trevorrow</td>\n",
       "    </tr>\n",
       "    <tr>\n",
       "      <th>1</th>\n",
       "      <td>Mad Max: Fury Road</td>\n",
       "      <td>Tom Hardy|Charlize Theron|Hugh Keays-Byrne|Nic...</td>\n",
       "      <td>Action|Adventure|Science Fiction|Thriller</td>\n",
       "      <td>Village Roadshow Pictures|Kennedy Miller Produ...</td>\n",
       "      <td>2015</td>\n",
       "      <td>120</td>\n",
       "      <td>6185</td>\n",
       "      <td>7.1</td>\n",
       "      <td>28.419936</td>\n",
       "      <td>150000000</td>\n",
       "      <td>378436354</td>\n",
       "      <td>1.379999e+08</td>\n",
       "      <td>3.481613e+08</td>\n",
       "      <td>228436354</td>\n",
       "      <td>George Miller</td>\n",
       "    </tr>\n",
       "    <tr>\n",
       "      <th>2</th>\n",
       "      <td>Insurgent</td>\n",
       "      <td>Shailene Woodley|Theo James|Kate Winslet|Ansel...</td>\n",
       "      <td>Adventure|Science Fiction|Thriller</td>\n",
       "      <td>Summit Entertainment|Mandeville Films|Red Wago...</td>\n",
       "      <td>2015</td>\n",
       "      <td>119</td>\n",
       "      <td>2480</td>\n",
       "      <td>6.3</td>\n",
       "      <td>13.112507</td>\n",
       "      <td>110000000</td>\n",
       "      <td>295238201</td>\n",
       "      <td>1.012000e+08</td>\n",
       "      <td>2.716190e+08</td>\n",
       "      <td>185238201</td>\n",
       "      <td>Robert Schwentke</td>\n",
       "    </tr>\n",
       "    <tr>\n",
       "      <th>3</th>\n",
       "      <td>Star Wars: The Force Awakens</td>\n",
       "      <td>Harrison Ford|Mark Hamill|Carrie Fisher|Adam D...</td>\n",
       "      <td>Action|Adventure|Science Fiction|Fantasy</td>\n",
       "      <td>Lucasfilm|Truenorth Productions|Bad Robot</td>\n",
       "      <td>2015</td>\n",
       "      <td>136</td>\n",
       "      <td>5292</td>\n",
       "      <td>7.5</td>\n",
       "      <td>11.173104</td>\n",
       "      <td>200000000</td>\n",
       "      <td>2068178225</td>\n",
       "      <td>1.839999e+08</td>\n",
       "      <td>1.902723e+09</td>\n",
       "      <td>1868178225</td>\n",
       "      <td>J.J. Abrams</td>\n",
       "    </tr>\n",
       "    <tr>\n",
       "      <th>4</th>\n",
       "      <td>Furious 7</td>\n",
       "      <td>Vin Diesel|Paul Walker|Jason Statham|Michelle ...</td>\n",
       "      <td>Action|Crime|Thriller</td>\n",
       "      <td>Universal Pictures|Original Film|Media Rights ...</td>\n",
       "      <td>2015</td>\n",
       "      <td>137</td>\n",
       "      <td>2947</td>\n",
       "      <td>7.3</td>\n",
       "      <td>9.335014</td>\n",
       "      <td>190000000</td>\n",
       "      <td>1506249360</td>\n",
       "      <td>1.747999e+08</td>\n",
       "      <td>1.385749e+09</td>\n",
       "      <td>1316249360</td>\n",
       "      <td>James Wan</td>\n",
       "    </tr>\n",
       "  </tbody>\n",
       "</table>\n",
       "</div>"
      ],
      "text/plain": [
       "                 original_title  \\\n",
       "0                Jurassic World   \n",
       "1            Mad Max: Fury Road   \n",
       "2                     Insurgent   \n",
       "3  Star Wars: The Force Awakens   \n",
       "4                     Furious 7   \n",
       "\n",
       "                                                cast  \\\n",
       "0  Chris Pratt|Bryce Dallas Howard|Irrfan Khan|Vi...   \n",
       "1  Tom Hardy|Charlize Theron|Hugh Keays-Byrne|Nic...   \n",
       "2  Shailene Woodley|Theo James|Kate Winslet|Ansel...   \n",
       "3  Harrison Ford|Mark Hamill|Carrie Fisher|Adam D...   \n",
       "4  Vin Diesel|Paul Walker|Jason Statham|Michelle ...   \n",
       "\n",
       "                                      genres  \\\n",
       "0  Action|Adventure|Science Fiction|Thriller   \n",
       "1  Action|Adventure|Science Fiction|Thriller   \n",
       "2         Adventure|Science Fiction|Thriller   \n",
       "3   Action|Adventure|Science Fiction|Fantasy   \n",
       "4                      Action|Crime|Thriller   \n",
       "\n",
       "                                production_companies  release_year  runtime  \\\n",
       "0  Universal Studios|Amblin Entertainment|Legenda...          2015      124   \n",
       "1  Village Roadshow Pictures|Kennedy Miller Produ...          2015      120   \n",
       "2  Summit Entertainment|Mandeville Films|Red Wago...          2015      119   \n",
       "3          Lucasfilm|Truenorth Productions|Bad Robot          2015      136   \n",
       "4  Universal Pictures|Original Film|Media Rights ...          2015      137   \n",
       "\n",
       "   vote_count  vote_average  popularity     budget     revenue    budget_adj  \\\n",
       "0        5562           6.5   32.985763  150000000  1513528810  1.379999e+08   \n",
       "1        6185           7.1   28.419936  150000000   378436354  1.379999e+08   \n",
       "2        2480           6.3   13.112507  110000000   295238201  1.012000e+08   \n",
       "3        5292           7.5   11.173104  200000000  2068178225  1.839999e+08   \n",
       "4        2947           7.3    9.335014  190000000  1506249360  1.747999e+08   \n",
       "\n",
       "    revenue_adj      profit    director_split  \n",
       "0  1.392446e+09  1363528810   Colin Trevorrow  \n",
       "1  3.481613e+08   228436354     George Miller  \n",
       "2  2.716190e+08   185238201  Robert Schwentke  \n",
       "3  1.902723e+09  1868178225       J.J. Abrams  \n",
       "4  1.385749e+09  1316249360         James Wan  "
      ]
     },
     "execution_count": 18,
     "metadata": {},
     "output_type": "execute_result"
    }
   ],
   "source": [
    "###Procedure to filter \"director\" column.\n",
    "\n",
    "# Create a copy (called \"df_split_director\") of the clean dataframe (called \"dff\")\n",
    "df_split_director = dff.copy()\n",
    "\n",
    "# From the copied dataframe, i create a column with the data of the old \"director\" column but separated.\n",
    "split_director = df_split_director['director'].str.split('|').apply(pd.Series, 1).stack().reset_index(level=1, drop=True)\n",
    "\n",
    "#Rename the new column\n",
    "split_director.name = 'director_split'\n",
    "\n",
    "#I delete the old \"director\" column and add the new column with the fixed data\n",
    "df_split_director = df_split_director.drop(['director'], axis=1).join(split_director)\n",
    "\n",
    "#Show the dataframe\n",
    "df_split_director.head()"
   ]
  },
  {
   "cell_type": "code",
   "execution_count": 19,
   "metadata": {},
   "outputs": [
    {
     "name": "stdout",
     "output_type": "stream",
     "text": [
      "<class 'pandas.core.frame.DataFrame'>\n",
      "Int64Index: 11774 entries, 0 to 10865\n",
      "Data columns (total 15 columns):\n",
      " #   Column                Non-Null Count  Dtype  \n",
      "---  ------                --------------  -----  \n",
      " 0   original_title        11774 non-null  object \n",
      " 1   cast                  11774 non-null  object \n",
      " 2   genres                11774 non-null  object \n",
      " 3   production_companies  10708 non-null  object \n",
      " 4   release_year          11774 non-null  int64  \n",
      " 5   runtime               11774 non-null  int64  \n",
      " 6   vote_count            11774 non-null  int64  \n",
      " 7   vote_average          11774 non-null  float64\n",
      " 8   popularity            11774 non-null  float64\n",
      " 9   budget                11774 non-null  int64  \n",
      " 10  revenue               11774 non-null  int64  \n",
      " 11  budget_adj            11774 non-null  float64\n",
      " 12  revenue_adj           11774 non-null  float64\n",
      " 13  profit                11774 non-null  int64  \n",
      " 14  director_split        11774 non-null  object \n",
      "dtypes: float64(4), int64(6), object(5)\n",
      "memory usage: 1.4+ MB\n"
     ]
    },
    {
     "data": {
      "text/plain": [
       "0"
      ]
     },
     "execution_count": 19,
     "metadata": {},
     "output_type": "execute_result"
    }
   ],
   "source": [
    "#Comprobation about the dataframe\n",
    "df_split_director.isnull().sum() #No Nan/null data (except the production companies)\n",
    "df_split_director.info()\n",
    "df_split_director.shape #Has 11774 rows and 14 columns\n",
    "sum(df_split_director.duplicated()) #No duplicated data"
   ]
  },
  {
   "cell_type": "code",
   "execution_count": 20,
   "metadata": {},
   "outputs": [
    {
     "data": {
      "text/html": [
       "<div>\n",
       "<style scoped>\n",
       "    .dataframe tbody tr th:only-of-type {\n",
       "        vertical-align: middle;\n",
       "    }\n",
       "\n",
       "    .dataframe tbody tr th {\n",
       "        vertical-align: top;\n",
       "    }\n",
       "\n",
       "    .dataframe thead th {\n",
       "        text-align: right;\n",
       "    }\n",
       "</style>\n",
       "<table border=\"1\" class=\"dataframe\">\n",
       "  <thead>\n",
       "    <tr style=\"text-align: right;\">\n",
       "      <th></th>\n",
       "      <th>original_title</th>\n",
       "      <th>director</th>\n",
       "      <th>cast</th>\n",
       "      <th>genres</th>\n",
       "      <th>release_year</th>\n",
       "      <th>runtime</th>\n",
       "      <th>vote_count</th>\n",
       "      <th>vote_average</th>\n",
       "      <th>popularity</th>\n",
       "      <th>budget</th>\n",
       "      <th>revenue</th>\n",
       "      <th>budget_adj</th>\n",
       "      <th>revenue_adj</th>\n",
       "      <th>profit</th>\n",
       "      <th>production_split</th>\n",
       "    </tr>\n",
       "  </thead>\n",
       "  <tbody>\n",
       "    <tr>\n",
       "      <th>0</th>\n",
       "      <td>Jurassic World</td>\n",
       "      <td>Colin Trevorrow</td>\n",
       "      <td>Chris Pratt|Bryce Dallas Howard|Irrfan Khan|Vi...</td>\n",
       "      <td>Action|Adventure|Science Fiction|Thriller</td>\n",
       "      <td>2015</td>\n",
       "      <td>124</td>\n",
       "      <td>5562</td>\n",
       "      <td>6.5</td>\n",
       "      <td>32.985763</td>\n",
       "      <td>150000000</td>\n",
       "      <td>1513528810</td>\n",
       "      <td>1.379999e+08</td>\n",
       "      <td>1.392446e+09</td>\n",
       "      <td>1363528810</td>\n",
       "      <td>Universal Studios</td>\n",
       "    </tr>\n",
       "    <tr>\n",
       "      <th>0</th>\n",
       "      <td>Jurassic World</td>\n",
       "      <td>Colin Trevorrow</td>\n",
       "      <td>Chris Pratt|Bryce Dallas Howard|Irrfan Khan|Vi...</td>\n",
       "      <td>Action|Adventure|Science Fiction|Thriller</td>\n",
       "      <td>2015</td>\n",
       "      <td>124</td>\n",
       "      <td>5562</td>\n",
       "      <td>6.5</td>\n",
       "      <td>32.985763</td>\n",
       "      <td>150000000</td>\n",
       "      <td>1513528810</td>\n",
       "      <td>1.379999e+08</td>\n",
       "      <td>1.392446e+09</td>\n",
       "      <td>1363528810</td>\n",
       "      <td>Amblin Entertainment</td>\n",
       "    </tr>\n",
       "    <tr>\n",
       "      <th>0</th>\n",
       "      <td>Jurassic World</td>\n",
       "      <td>Colin Trevorrow</td>\n",
       "      <td>Chris Pratt|Bryce Dallas Howard|Irrfan Khan|Vi...</td>\n",
       "      <td>Action|Adventure|Science Fiction|Thriller</td>\n",
       "      <td>2015</td>\n",
       "      <td>124</td>\n",
       "      <td>5562</td>\n",
       "      <td>6.5</td>\n",
       "      <td>32.985763</td>\n",
       "      <td>150000000</td>\n",
       "      <td>1513528810</td>\n",
       "      <td>1.379999e+08</td>\n",
       "      <td>1.392446e+09</td>\n",
       "      <td>1363528810</td>\n",
       "      <td>Legendary Pictures</td>\n",
       "    </tr>\n",
       "    <tr>\n",
       "      <th>0</th>\n",
       "      <td>Jurassic World</td>\n",
       "      <td>Colin Trevorrow</td>\n",
       "      <td>Chris Pratt|Bryce Dallas Howard|Irrfan Khan|Vi...</td>\n",
       "      <td>Action|Adventure|Science Fiction|Thriller</td>\n",
       "      <td>2015</td>\n",
       "      <td>124</td>\n",
       "      <td>5562</td>\n",
       "      <td>6.5</td>\n",
       "      <td>32.985763</td>\n",
       "      <td>150000000</td>\n",
       "      <td>1513528810</td>\n",
       "      <td>1.379999e+08</td>\n",
       "      <td>1.392446e+09</td>\n",
       "      <td>1363528810</td>\n",
       "      <td>Fuji Television Network</td>\n",
       "    </tr>\n",
       "    <tr>\n",
       "      <th>0</th>\n",
       "      <td>Jurassic World</td>\n",
       "      <td>Colin Trevorrow</td>\n",
       "      <td>Chris Pratt|Bryce Dallas Howard|Irrfan Khan|Vi...</td>\n",
       "      <td>Action|Adventure|Science Fiction|Thriller</td>\n",
       "      <td>2015</td>\n",
       "      <td>124</td>\n",
       "      <td>5562</td>\n",
       "      <td>6.5</td>\n",
       "      <td>32.985763</td>\n",
       "      <td>150000000</td>\n",
       "      <td>1513528810</td>\n",
       "      <td>1.379999e+08</td>\n",
       "      <td>1.392446e+09</td>\n",
       "      <td>1363528810</td>\n",
       "      <td>Dentsu</td>\n",
       "    </tr>\n",
       "  </tbody>\n",
       "</table>\n",
       "</div>"
      ],
      "text/plain": [
       "   original_title         director  \\\n",
       "0  Jurassic World  Colin Trevorrow   \n",
       "0  Jurassic World  Colin Trevorrow   \n",
       "0  Jurassic World  Colin Trevorrow   \n",
       "0  Jurassic World  Colin Trevorrow   \n",
       "0  Jurassic World  Colin Trevorrow   \n",
       "\n",
       "                                                cast  \\\n",
       "0  Chris Pratt|Bryce Dallas Howard|Irrfan Khan|Vi...   \n",
       "0  Chris Pratt|Bryce Dallas Howard|Irrfan Khan|Vi...   \n",
       "0  Chris Pratt|Bryce Dallas Howard|Irrfan Khan|Vi...   \n",
       "0  Chris Pratt|Bryce Dallas Howard|Irrfan Khan|Vi...   \n",
       "0  Chris Pratt|Bryce Dallas Howard|Irrfan Khan|Vi...   \n",
       "\n",
       "                                      genres  release_year  runtime  \\\n",
       "0  Action|Adventure|Science Fiction|Thriller          2015      124   \n",
       "0  Action|Adventure|Science Fiction|Thriller          2015      124   \n",
       "0  Action|Adventure|Science Fiction|Thriller          2015      124   \n",
       "0  Action|Adventure|Science Fiction|Thriller          2015      124   \n",
       "0  Action|Adventure|Science Fiction|Thriller          2015      124   \n",
       "\n",
       "   vote_count  vote_average  popularity     budget     revenue    budget_adj  \\\n",
       "0        5562           6.5   32.985763  150000000  1513528810  1.379999e+08   \n",
       "0        5562           6.5   32.985763  150000000  1513528810  1.379999e+08   \n",
       "0        5562           6.5   32.985763  150000000  1513528810  1.379999e+08   \n",
       "0        5562           6.5   32.985763  150000000  1513528810  1.379999e+08   \n",
       "0        5562           6.5   32.985763  150000000  1513528810  1.379999e+08   \n",
       "\n",
       "    revenue_adj      profit         production_split  \n",
       "0  1.392446e+09  1363528810        Universal Studios  \n",
       "0  1.392446e+09  1363528810     Amblin Entertainment  \n",
       "0  1.392446e+09  1363528810       Legendary Pictures  \n",
       "0  1.392446e+09  1363528810  Fuji Television Network  \n",
       "0  1.392446e+09  1363528810                   Dentsu  "
      ]
     },
     "execution_count": 20,
     "metadata": {},
     "output_type": "execute_result"
    }
   ],
   "source": [
    "###Procedure to filter \"production\" column.\n",
    "\n",
    "# Create a copy (called \"df_split_production\") of the clean dataframe (called \"dff\")\n",
    "df_split_production = dff.copy()\n",
    "\n",
    "# From the copied dataframe, i create a column with the data of the old \"production_companies\" column but separated.\n",
    "split_production = df_split_production['production_companies'].str.split('|').apply(pd.Series, 1).stack().reset_index(level=1, drop=True)\n",
    "\n",
    "#Rename the new column\n",
    "split_production.name = 'production_split'\n",
    "\n",
    "#I delete the old \"production_companies\" column and add the new column with the fixed data\n",
    "df_split_production = df_split_production.drop(['production_companies'], axis=1).join(split_production)\n",
    "\n",
    "#Show the dataframe\n",
    "df_split_production.head()"
   ]
  },
  {
   "cell_type": "code",
   "execution_count": 21,
   "metadata": {},
   "outputs": [
    {
     "data": {
      "text/plain": [
       "(23143, 15)"
      ]
     },
     "execution_count": 21,
     "metadata": {},
     "output_type": "execute_result"
    }
   ],
   "source": [
    "# Comprobation about the dataframe\n",
    "df_split_production.isnull().sum() #Has 959 NaN/nuLL data from \"production_split\"\n",
    "sum(df_split_director.duplicated()) #No duplicated data\n",
    "\n",
    "# Because they are \"str\" elements and less than 10% of the total data, Nan/null elements will be eliminated.\n",
    "df_split_production.dropna(inplace = True)\n",
    "df_split_production.isnull().sum() #Now has 0 Nan/null data\n",
    "\n",
    "df_split_production.shape #Has 23143 rows and 14 columns"
   ]
  },
  {
   "cell_type": "markdown",
   "metadata": {},
   "source": [
    "### * *Summary*\n",
    "\n",
    "We currently have 5 dataframes:\n",
    "\n",
    "* dff                 : original dataframe with clean data.\n",
    "* df_split_genre      : dataframe with the \"genre\" data fixed\n",
    "* df_split_cast       : dataframe with the \"cast\" data fixed\n",
    "* df_split_director   : dataframe with the \"director\" data fixed\n",
    "* df_split_production : dataframe with the \"production_companies\" data fixed\n",
    "   \n"
   ]
  },
  {
   "cell_type": "markdown",
   "metadata": {},
   "source": [
    "<a id='eda'></a>\n",
    "## **Exploratory Data Analysis**\n",
    "\n",
    "> With the data arranged, we proceed to analyze each aspect of the movie database.\n",
    "\n",
    "<a id='a_genres'></a>\n",
    "### * About genres\n",
    "\n",
    "<a id='1'></a>\n",
    "### *What are the most popular genres?*"
   ]
  },
  {
   "cell_type": "code",
   "execution_count": 22,
   "metadata": {},
   "outputs": [
    {
     "data": {
      "image/png": "[encoded data removed]",
      "text/plain": [
       "<Figure size 432x288 with 1 Axes>"
      ]
     },
     "metadata": {
      "needs_background": "light"
     },
     "output_type": "display_data"
    }
   ],
   "source": [
    "df_split_genre['genre_split'].value_counts().plot(kind='barh', color='g', width = 0.8)\n",
    "plt.title('Movies by Genre from 1960-2015', size=14)\n",
    "plt.xlabel('Genre', size=12)\n",
    "plt.ylabel('Movie count', size=12);"
   ]
  },
  {
   "cell_type": "markdown",
   "metadata": {},
   "source": [
    "> The majority of the films are of the \"Drama\" genre, while the least amount are classified as \"TV Movie\".\n",
    "\n",
    "<a id='2'></a>\n",
    "### Genre classification by year"
   ]
  },
  {
   "cell_type": "code",
   "execution_count": 23,
   "metadata": {},
   "outputs": [
    {
     "data": {
      "text/plain": [
       "release_year  genre_split\n",
       "1960          Drama           13\n",
       "1961          Drama           16\n",
       "1962          Drama           21\n",
       "1963          Comedy          13\n",
       "1964          Drama           20\n",
       "1965          Drama           20\n",
       "1966          Comedy          16\n",
       "1967          Comedy          17\n",
       "1968          Drama           19\n",
       "1969          Drama           13\n",
       "1970          Drama           19\n",
       "1971          Drama           30\n",
       "1972          Drama           16\n",
       "1973          Drama           31\n",
       "1974          Drama           21\n",
       "1975          Drama           17\n",
       "1976          Drama           22\n",
       "1977          Drama           23\n",
       "1978          Drama           29\n",
       "1979          Drama           30\n",
       "1980          Drama           32\n",
       "1981          Drama           32\n",
       "1982          Drama           33\n",
       "1983          Drama           35\n",
       "1984          Drama           40\n",
       "1985          Comedy          51\n",
       "1986          Drama           51\n",
       "1987          Comedy          57\n",
       "1988          Comedy          69\n",
       "1989          Comedy          63\n",
       "1990          Drama           60\n",
       "1991          Drama           63\n",
       "1992          Drama           65\n",
       "1993          Drama           90\n",
       "1994          Comedy          88\n",
       "1995          Drama           93\n",
       "1996          Drama          104\n",
       "1997          Drama           83\n",
       "1998          Drama          108\n",
       "1999          Drama          113\n",
       "2000          Drama          100\n",
       "2001          Comedy         101\n",
       "2002          Drama          129\n",
       "2003          Comedy         111\n",
       "2004          Drama          141\n",
       "2005          Drama          182\n",
       "2006          Drama          196\n",
       "2007          Drama          197\n",
       "2008          Drama          232\n",
       "2009          Drama          222\n",
       "2010          Drama          208\n",
       "2011          Drama          213\n",
       "2012          Drama          231\n",
       "2013          Drama          253\n",
       "2014          Drama          284\n",
       "2015          Drama          260\n",
       "Name: genre_split, dtype: int64"
      ]
     },
     "execution_count": 23,
     "metadata": {},
     "output_type": "execute_result"
    }
   ],
   "source": [
    "genres_year = df_split_genre.groupby(['release_year'])['genre_split'].value_counts()\n",
    "genres_year.groupby(level=0).nlargest(1).reset_index(level=0, drop=True)"
   ]
  },
  {
   "cell_type": "markdown",
   "metadata": {},
   "source": [
    "> Although most of the years the \"Drama\" genre has predominated in the industry, it's interesting to see that in the years 1963, 1966, 1967, 1985, 1987, 1988, 1989, 1994, 2001, 2003 \"Comedy\" genre won.\n",
    "\n",
    "<a id='3'></a>\n",
    "### Genre classification by popularity\n"
   ]
  },
  {
   "cell_type": "code",
   "execution_count": 24,
   "metadata": {
    "scrolled": true
   },
   "outputs": [
    {
     "data": {
      "text/plain": [
       "release_year  genre_split    \n",
       "1960          Thriller           0.811910\n",
       "1961          Animation          2.631987\n",
       "1962          Adventure          0.942513\n",
       "1963          Animation          2.180410\n",
       "1964          War                0.930959\n",
       "1965          Music              0.968850\n",
       "1966          Animation          0.585717\n",
       "1967          Animation          2.550704\n",
       "1968          Mystery            1.519456\n",
       "1969          Crime              0.948020\n",
       "1970          Animation          1.127718\n",
       "1971          Family             1.530722\n",
       "1972          Crime              1.072768\n",
       "1973          Animation          0.956526\n",
       "1974          Mystery            0.702035\n",
       "1975          Adventure          0.880297\n",
       "1976          Crime              0.707249\n",
       "1977          Action             1.419319\n",
       "1978          Music              0.679805\n",
       "1979          Action             1.410014\n",
       "1980          Science Fiction    0.897143\n",
       "1981          Adventure          0.875815\n",
       "1982          War                1.143183\n",
       "1983          Adventure          0.900596\n",
       "1984          Family             0.823924\n",
       "1985          Family             0.924311\n",
       "1986          Adventure          0.798935\n",
       "1987          History            0.815643\n",
       "1988          Animation          0.749364\n",
       "1989          Animation          1.354143\n",
       "1990          Adventure          0.801768\n",
       "1991          Animation          1.665002\n",
       "1992          Animation          1.286893\n",
       "1993          Fantasy            0.918601\n",
       "1994          Crime              1.297888\n",
       "1995          Animation          1.467780\n",
       "1996          Crime              0.976838\n",
       "1997          Science Fiction    1.140241\n",
       "1998          War                1.246619\n",
       "1999          Adventure          1.012306\n",
       "2000          Adventure          0.854593\n",
       "2001          Fantasy            1.565260\n",
       "2002          Fantasy            1.430465\n",
       "2003          Fantasy            1.747524\n",
       "2004          Fantasy            1.320568\n",
       "2005          Fantasy            1.146827\n",
       "2006          Fantasy            1.023134\n",
       "2007          Fantasy            0.957349\n",
       "2008          Adventure          1.008385\n",
       "2009          Adventure          1.153656\n",
       "2010          Adventure          1.378913\n",
       "2011          Western            1.175800\n",
       "2012          Western            1.732778\n",
       "2013          Adventure          1.294491\n",
       "2014          Adventure          2.430526\n",
       "2015          Adventure          3.283786\n",
       "Name: popularity, dtype: float64"
      ]
     },
     "execution_count": 24,
     "metadata": {},
     "output_type": "execute_result"
    }
   ],
   "source": [
    "genres_pop = df_split_genre.groupby(['release_year','genre_split'])['popularity'].mean()\n",
    "genres_pop.groupby(level=0).nlargest(1).reset_index(level=0, drop=True)"
   ]
  },
  {
   "cell_type": "markdown",
   "metadata": {},
   "source": [
    "> Despite the fact that the \"drama\" genre predominates in the industry, it's incredible to see that in popularity, it's not even selected, being the \"Adventure\" genre the most popular.\n",
    "\n",
    "<a id='a_movies'></a>\n",
    "### * About Movies\n",
    "\n",
    "<a id='4'></a>\n",
    "### *What are the films with the longest running time?*"
   ]
  },
  {
   "cell_type": "code",
   "execution_count": 25,
   "metadata": {},
   "outputs": [
    {
     "data": {
      "image/png": "[encoded data removed]",
      "text/plain": [
       "<Figure size 504x360 with 1 Axes>"
      ]
     },
     "metadata": {
      "needs_background": "light"
     },
     "output_type": "display_data"
    }
   ],
   "source": [
    "#We have the \"runtime\" and \"original_title\" column of the \"dff\" dataframe sorted from highest to lowest\n",
    "#display the first 10 results and store it in the \"longtime\" variable\n",
    "longtime = pd.DataFrame(dff['runtime'].sort_values(ascending = False))\n",
    "longtime['original_title'] = dff['original_title']\n",
    "longtime = longtime.head(10)\n",
    "\n",
    "#Plot the data\n",
    "longtime.plot(x=\"original_title\", y=\"runtime\", kind=\"barh\",figsize=(7,5), color=\"r\", legend=None )\n",
    "plt.title('Top 10 longest movies',fontsize = 20)\n",
    "plt.xlabel(\"Runtime (min)\", fontsize = 16)\n",
    "plt.ylabel('Original title', fontsize = 14);"
   ]
  },
  {
   "cell_type": "code",
   "execution_count": 26,
   "metadata": {},
   "outputs": [
    {
     "data": {
      "text/html": [
       "<div>\n",
       "<style scoped>\n",
       "    .dataframe tbody tr th:only-of-type {\n",
       "        vertical-align: middle;\n",
       "    }\n",
       "\n",
       "    .dataframe tbody tr th {\n",
       "        vertical-align: top;\n",
       "    }\n",
       "\n",
       "    .dataframe thead th {\n",
       "        text-align: right;\n",
       "    }\n",
       "</style>\n",
       "<table border=\"1\" class=\"dataframe\">\n",
       "  <thead>\n",
       "    <tr style=\"text-align: right;\">\n",
       "      <th></th>\n",
       "      <th>runtime</th>\n",
       "      <th>original_title</th>\n",
       "    </tr>\n",
       "  </thead>\n",
       "  <tbody>\n",
       "    <tr>\n",
       "      <th>3894</th>\n",
       "      <td>900</td>\n",
       "      <td>The Story of Film: An Odyssey</td>\n",
       "    </tr>\n",
       "    <tr>\n",
       "      <th>4041</th>\n",
       "      <td>877</td>\n",
       "      <td>Taken</td>\n",
       "    </tr>\n",
       "    <tr>\n",
       "      <th>2722</th>\n",
       "      <td>705</td>\n",
       "      <td>Band of Brothers</td>\n",
       "    </tr>\n",
       "    <tr>\n",
       "      <th>6176</th>\n",
       "      <td>566</td>\n",
       "      <td>Shoah</td>\n",
       "    </tr>\n",
       "    <tr>\n",
       "      <th>6894</th>\n",
       "      <td>550</td>\n",
       "      <td>Planet Earth</td>\n",
       "    </tr>\n",
       "    <tr>\n",
       "      <th>2214</th>\n",
       "      <td>540</td>\n",
       "      <td>The Pacific</td>\n",
       "    </tr>\n",
       "    <tr>\n",
       "      <th>3356</th>\n",
       "      <td>501</td>\n",
       "      <td>John Adams</td>\n",
       "    </tr>\n",
       "    <tr>\n",
       "      <th>1865</th>\n",
       "      <td>500</td>\n",
       "      <td>Life</td>\n",
       "    </tr>\n",
       "    <tr>\n",
       "      <th>3141</th>\n",
       "      <td>470</td>\n",
       "      <td>Generation Kill</td>\n",
       "    </tr>\n",
       "    <tr>\n",
       "      <th>2170</th>\n",
       "      <td>421</td>\n",
       "      <td>The Pillars of the Earth</td>\n",
       "    </tr>\n",
       "  </tbody>\n",
       "</table>\n",
       "</div>"
      ],
      "text/plain": [
       "      runtime                 original_title\n",
       "3894      900  The Story of Film: An Odyssey\n",
       "4041      877                          Taken\n",
       "2722      705               Band of Brothers\n",
       "6176      566                          Shoah\n",
       "6894      550                   Planet Earth\n",
       "2214      540                    The Pacific\n",
       "3356      501                     John Adams\n",
       "1865      500                           Life\n",
       "3141      470                Generation Kill\n",
       "2170      421       The Pillars of the Earth"
      ]
     },
     "execution_count": 26,
     "metadata": {},
     "output_type": "execute_result"
    }
   ],
   "source": [
    "longtime"
   ]
  },
  {
   "cell_type": "markdown",
   "metadata": {},
   "source": [
    "> As can be seen, the 10 longest films have durations over 7 hours . The longest movie is 15 hours long!!!!! (prepare your body if you want to watch these movies in one sitting).\n",
    "\n",
    "<a id='5'></a>\n",
    "### *What are the films with the shortest running time?*"
   ]
  },
  {
   "cell_type": "code",
   "execution_count": 27,
   "metadata": {},
   "outputs": [
    {
     "data": {
      "image/png": "[encoded data removed]",
      "text/plain": [
       "<Figure size 504x360 with 1 Axes>"
      ]
     },
     "metadata": {
      "needs_background": "light"
     },
     "output_type": "display_data"
    }
   ],
   "source": [
    "#We have the \"runtime\" and \"original_title\" column of the \"dff\" dataframe sorted from lowest to highest\n",
    "#display the first 10 results and store it in the \"shorttime\" variable\n",
    "shortime = pd.DataFrame(dff['runtime'].sort_values(ascending = True))\n",
    "shortime['original_title'] = dff['original_title']\n",
    "shortime = shortime.drop(shortime[shortime['runtime'] == 0].index)\n",
    "shortime = shortime.head(10)\n",
    "\n",
    "#Plot the data\n",
    "shortime.plot(x=\"original_title\", y=\"runtime\", kind=\"barh\",figsize=(7,5), color=\"#146AD8\", legend=None)\n",
    "plt.title('Top 10 shortest movies',fontsize = 16)\n",
    "plt.xlabel(\"Runtime (min)\", fontsize = 16)\n",
    "plt.ylabel('Original title', fontsize = 14);\n"
   ]
  },
  {
   "cell_type": "code",
   "execution_count": 28,
   "metadata": {},
   "outputs": [
    {
     "data": {
      "text/html": [
       "<div>\n",
       "<style scoped>\n",
       "    .dataframe tbody tr th:only-of-type {\n",
       "        vertical-align: middle;\n",
       "    }\n",
       "\n",
       "    .dataframe tbody tr th {\n",
       "        vertical-align: top;\n",
       "    }\n",
       "\n",
       "    .dataframe thead th {\n",
       "        text-align: right;\n",
       "    }\n",
       "</style>\n",
       "<table border=\"1\" class=\"dataframe\">\n",
       "  <thead>\n",
       "    <tr style=\"text-align: right;\">\n",
       "      <th></th>\n",
       "      <th>runtime</th>\n",
       "      <th>original_title</th>\n",
       "    </tr>\n",
       "  </thead>\n",
       "  <tbody>\n",
       "    <tr>\n",
       "      <th>5993</th>\n",
       "      <td>3</td>\n",
       "      <td>Lights Out</td>\n",
       "    </tr>\n",
       "    <tr>\n",
       "      <th>8706</th>\n",
       "      <td>3</td>\n",
       "      <td>For the Birds</td>\n",
       "    </tr>\n",
       "    <tr>\n",
       "      <th>5399</th>\n",
       "      <td>3</td>\n",
       "      <td>Doodlebug</td>\n",
       "    </tr>\n",
       "    <tr>\n",
       "      <th>3298</th>\n",
       "      <td>3</td>\n",
       "      <td>MamÃ¡</td>\n",
       "    </tr>\n",
       "    <tr>\n",
       "      <th>3891</th>\n",
       "      <td>3</td>\n",
       "      <td>Scrat's Continental Crack-Up: Part 2</td>\n",
       "    </tr>\n",
       "    <tr>\n",
       "      <th>2232</th>\n",
       "      <td>3</td>\n",
       "      <td>Scrat's Continental Crack-Up</td>\n",
       "    </tr>\n",
       "    <tr>\n",
       "      <th>3350</th>\n",
       "      <td>3</td>\n",
       "      <td>The Black Hole</td>\n",
       "    </tr>\n",
       "    <tr>\n",
       "      <th>2830</th>\n",
       "      <td>3</td>\n",
       "      <td>Shrek in the Swamp Karaoke Dance Party</td>\n",
       "    </tr>\n",
       "    <tr>\n",
       "      <th>1112</th>\n",
       "      <td>3</td>\n",
       "      <td>Batman: Strange Days</td>\n",
       "    </tr>\n",
       "    <tr>\n",
       "      <th>3656</th>\n",
       "      <td>4</td>\n",
       "      <td>Marvel One-Shot: The Consultant</td>\n",
       "    </tr>\n",
       "  </tbody>\n",
       "</table>\n",
       "</div>"
      ],
      "text/plain": [
       "      runtime                          original_title\n",
       "5993        3                              Lights Out\n",
       "8706        3                           For the Birds\n",
       "5399        3                               Doodlebug\n",
       "3298        3                                   MamÃ¡\n",
       "3891        3    Scrat's Continental Crack-Up: Part 2\n",
       "2232        3            Scrat's Continental Crack-Up\n",
       "3350        3                          The Black Hole\n",
       "2830        3  Shrek in the Swamp Karaoke Dance Party\n",
       "1112        3                    Batman: Strange Days\n",
       "3656        4         Marvel One-Shot: The Consultant"
      ]
     },
     "execution_count": 28,
     "metadata": {},
     "output_type": "execute_result"
    }
   ],
   "source": [
    "shortime"
   ]
  },
  {
   "cell_type": "markdown",
   "metadata": {},
   "source": [
    "> With the exception of the films whose running time is recorded as 0 minutes, the shorter films are only 3 minutes long (you could watch them while reviewing this report).\n",
    "\n",
    "<a id='6'></a>\n",
    "### *How has the length of films evolved over time?*"
   ]
  },
  {
   "cell_type": "code",
   "execution_count": 29,
   "metadata": {
    "scrolled": true
   },
   "outputs": [
    {
     "data": {
      "image/png": "[encoded data removed]",
      "text/plain": [
       "<Figure size 432x288 with 1 Axes>"
      ]
     },
     "metadata": {
      "needs_background": "light"
     },
     "output_type": "display_data"
    }
   ],
   "source": [
    "#We group the mean runtime by release_year, and save it into the runtime variable\n",
    "runtime = df.groupby(['release_year'])['runtime'].mean()\n",
    "\n",
    "#Plot the data\n",
    "plt.plot(runtime)\n",
    "plt.title('Length of films over the years',fontsize = 16)\n",
    "plt.xlabel('Years', size=12)\n",
    "plt.ylabel('Movie length (min)', size=12);\n"
   ]
  },
  {
   "cell_type": "markdown",
   "metadata": {},
   "source": [
    "> A downward trend can be observed in the length of films as the years go by. (lazy directors?)\n",
    "\n",
    "<a id='a_pop'></a>\n",
    "### * **About popularity**\n",
    "\n",
    "<a id='7'></a>\n",
    "### *Does the length of the film affect popularity?*"
   ]
  },
  {
   "cell_type": "code",
   "execution_count": 30,
   "metadata": {},
   "outputs": [
    {
     "data": {
      "image/png": "[encoded data removed]",
      "text/plain": [
       "<Figure size 432x288 with 1 Axes>"
      ]
     },
     "metadata": {
      "needs_background": "light"
     },
     "output_type": "display_data"
    }
   ],
   "source": [
    "#Plot the data from dff dataframe\n",
    "dff.plot(x='runtime', y='popularity', kind='scatter')\n",
    "plt.title('Runtime v/s Popularity',fontsize = 16)\n",
    "plt.xlabel('Runtime (min)', size=12)\n",
    "plt.ylabel('Popularity', size=12);"
   ]
  },
  {
   "cell_type": "markdown",
   "metadata": {},
   "source": [
    "> It is possible to observe that films between 100 and 200 minutes have a tendency to be more popular than the others (although this is debatable, as these films have more data)\n",
    "\n",
    "<a id='8'></a>\n",
    "### *What are the most popular movies?*"
   ]
  },
  {
   "cell_type": "code",
   "execution_count": 31,
   "metadata": {},
   "outputs": [
    {
     "data": {
      "text/html": [
       "<div>\n",
       "<style scoped>\n",
       "    .dataframe tbody tr th:only-of-type {\n",
       "        vertical-align: middle;\n",
       "    }\n",
       "\n",
       "    .dataframe tbody tr th {\n",
       "        vertical-align: top;\n",
       "    }\n",
       "\n",
       "    .dataframe thead th {\n",
       "        text-align: right;\n",
       "    }\n",
       "</style>\n",
       "<table border=\"1\" class=\"dataframe\">\n",
       "  <thead>\n",
       "    <tr style=\"text-align: right;\">\n",
       "      <th></th>\n",
       "      <th>popularity</th>\n",
       "      <th>original_title</th>\n",
       "    </tr>\n",
       "  </thead>\n",
       "  <tbody>\n",
       "    <tr>\n",
       "      <th>0</th>\n",
       "      <td>32.985763</td>\n",
       "      <td>Jurassic World</td>\n",
       "    </tr>\n",
       "    <tr>\n",
       "      <th>1</th>\n",
       "      <td>28.419936</td>\n",
       "      <td>Mad Max: Fury Road</td>\n",
       "    </tr>\n",
       "    <tr>\n",
       "      <th>629</th>\n",
       "      <td>24.949134</td>\n",
       "      <td>Interstellar</td>\n",
       "    </tr>\n",
       "    <tr>\n",
       "      <th>630</th>\n",
       "      <td>14.311205</td>\n",
       "      <td>Guardians of the Galaxy</td>\n",
       "    </tr>\n",
       "    <tr>\n",
       "      <th>2</th>\n",
       "      <td>13.112507</td>\n",
       "      <td>Insurgent</td>\n",
       "    </tr>\n",
       "    <tr>\n",
       "      <th>631</th>\n",
       "      <td>12.971027</td>\n",
       "      <td>Captain America: The Winter Soldier</td>\n",
       "    </tr>\n",
       "    <tr>\n",
       "      <th>1329</th>\n",
       "      <td>12.037933</td>\n",
       "      <td>Star Wars</td>\n",
       "    </tr>\n",
       "    <tr>\n",
       "      <th>632</th>\n",
       "      <td>11.422751</td>\n",
       "      <td>John Wick</td>\n",
       "    </tr>\n",
       "    <tr>\n",
       "      <th>3</th>\n",
       "      <td>11.173104</td>\n",
       "      <td>Star Wars: The Force Awakens</td>\n",
       "    </tr>\n",
       "    <tr>\n",
       "      <th>633</th>\n",
       "      <td>10.739009</td>\n",
       "      <td>The Hunger Games: Mockingjay - Part 1</td>\n",
       "    </tr>\n",
       "  </tbody>\n",
       "</table>\n",
       "</div>"
      ],
      "text/plain": [
       "      popularity                         original_title\n",
       "0      32.985763                         Jurassic World\n",
       "1      28.419936                     Mad Max: Fury Road\n",
       "629    24.949134                           Interstellar\n",
       "630    14.311205                Guardians of the Galaxy\n",
       "2      13.112507                              Insurgent\n",
       "631    12.971027    Captain America: The Winter Soldier\n",
       "1329   12.037933                              Star Wars\n",
       "632    11.422751                              John Wick\n",
       "3      11.173104           Star Wars: The Force Awakens\n",
       "633    10.739009  The Hunger Games: Mockingjay - Part 1"
      ]
     },
     "execution_count": 31,
     "metadata": {},
     "output_type": "execute_result"
    }
   ],
   "source": [
    "#We get the \"popularity\" and \"original_title\" columns from dff dataframe, sort by popularity from the highest to the lowest\n",
    "#and show the first 10 results\n",
    "dff[['popularity', 'original_title']].sort_values(by='popularity', ascending = False).head(10)"
   ]
  },
  {
   "cell_type": "markdown",
   "metadata": {},
   "source": [
    "> There is not much to add on this point, except that 4 of the 10 films belong to Disney.\n",
    "\n",
    "<a id='9'></a>\n",
    "### *Does the release year affect popularity?*"
   ]
  },
  {
   "cell_type": "code",
   "execution_count": 32,
   "metadata": {},
   "outputs": [
    {
     "data": {
      "image/png": "[encoded data removed]",
      "text/plain": [
       "<Figure size 432x288 with 1 Axes>"
      ]
     },
     "metadata": {
      "needs_background": "light"
     },
     "output_type": "display_data"
    }
   ],
   "source": [
    "#We group the mean popularity by release_year, and save it into the pop variable\n",
    "pop = dff.groupby([\"release_year\"])['popularity'].mean()\n",
    "\n",
    "#Plot the data\n",
    "plt.plot(pop)\n",
    "plt.title('Release year v/s Popularity',fontsize = 16)\n",
    "plt.xlabel('Release year', size=12)\n",
    "plt.ylabel('Popularity', size=12);"
   ]
  },
  {
   "cell_type": "markdown",
   "metadata": {},
   "source": [
    "> There is a slight tendency for popularity to increase as the years go by (maybe the new generations are less critical?).\n",
    "\n",
    "<a id='10'></a>\n",
    "### *Does higher revenue ensure greater popularity?*"
   ]
  },
  {
   "cell_type": "code",
   "execution_count": 33,
   "metadata": {},
   "outputs": [
    {
     "data": {
      "image/png": "[encoded data removed]",
      "text/plain": [
       "<Figure size 432x288 with 1 Axes>"
      ]
     },
     "metadata": {
      "needs_background": "light"
     },
     "output_type": "display_data"
    }
   ],
   "source": [
    "#Plot a scatter graph of the \"revenue\" and \"popularity\" columns from dff dataframe\n",
    "dff.plot(x='revenue', y='popularity', kind='scatter')\n",
    "plt.title('Revenue v/s Popularity',fontsize = 16)\n",
    "plt.xlabel('Revenue (millions)', size=12)\n",
    "plt.ylabel('Popularity', size=12);"
   ]
  },
  {
   "cell_type": "markdown",
   "metadata": {},
   "source": [
    "> There does not seem to be a relationship between revenue and popularity.\n",
    "\n",
    "<a id='11'></a>\n",
    "### *Popularity by director and cast*"
   ]
  },
  {
   "cell_type": "code",
   "execution_count": 34,
   "metadata": {
    "scrolled": true
   },
   "outputs": [
    {
     "name": "stdout",
     "output_type": "stream",
     "text": [
      "director_split\n",
      "Colin Trevorrow       16.696886\n",
      "Chad Stahelski        11.422751\n",
      "David Leitch          11.422751\n",
      "Juno John Lee          8.411577\n",
      "Alan Taylor            6.883129\n",
      "Peter Richardson       6.668990\n",
      "Christopher Nolan      6.195521\n",
      "Alex Garland           6.118847\n",
      "Patrick Tatopoulos     5.806897\n",
      "Wes Ball               5.553082\n",
      "Name: popularity, dtype: float64 \n",
      "\n",
      "cast_split\n",
      "Josh Helman         28.419936\n",
      "Daisy Ridley        11.173104\n",
      "Hugh Keays-Byrne    10.211471\n",
      "Daniel Henney        8.691294\n",
      "Ryan Potter          8.691294\n",
      "Brian Dobson         8.411577\n",
      "Gloria Foster        7.753899\n",
      "Ansel Elgort         7.703183\n",
      "Ki Hong Lee          7.137273\n",
      "Blake Cooper         7.137273\n",
      "Name: popularity, dtype: float64\n"
     ]
    }
   ],
   "source": [
    "#We group the mean popularity by director (from the df_split_director dataframe), we order from highest to lowest, and display the first 10\n",
    "print(df_split_director.groupby([\"director_split\"])[\"popularity\"].mean().sort_values(ascending = False).head(10), \"\\n\")\n",
    "\n",
    "#We group the mean popularity by cast (from the df_split_cast dataframe), we order from highest to lowest, and display the first 10\n",
    "print(df_split_cast.groupby([\"cast_split\"])[\"popularity\"].mean().sort_values(ascending = False).head(10))\n"
   ]
  },
  {
   "cell_type": "markdown",
   "metadata": {},
   "source": [
    "> This is not a good analysis really, as the number of films made by each director/casting differs greatly from one another. Anyway, it will be left to show the data.\n",
    "\n",
    "<a id='a_budget'></a>\n",
    "### * **About revenue, budget and profits**\n",
    "\n",
    "<a id='12'></a>\n",
    "### *Films with higher/lower profits*"
   ]
  },
  {
   "cell_type": "code",
   "execution_count": 35,
   "metadata": {},
   "outputs": [
    {
     "data": {
      "image/png": "[encoded data removed]",
      "text/plain": [
       "<Figure size 504x360 with 1 Axes>"
      ]
     },
     "metadata": {
      "needs_background": "light"
     },
     "output_type": "display_data"
    }
   ],
   "source": [
    "high_profit = pd.DataFrame(dff['profit'].sort_values(ascending = False))\n",
    "high_profit['original_title'] = dff['original_title']\n",
    "high_profit = high_profit.head(10)\n",
    "\n",
    "#Plot the data\n",
    "high_profit.plot(x=\"original_title\", y=\"profit\", kind=\"barh\",figsize=(7,5), color=\"#146AD8\", legend=None )\n",
    "plt.title('Top 10 highest profit movies',fontsize = 20)\n",
    "plt.xlabel(\"Money (million usd)\", fontsize = 16)\n",
    "plt.ylabel('Original title', fontsize = 14);"
   ]
  },
  {
   "cell_type": "code",
   "execution_count": 36,
   "metadata": {},
   "outputs": [
    {
     "data": {
      "image/png": "[encoded data removed]",
      "text/plain": [
       "<Figure size 504x360 with 1 Axes>"
      ]
     },
     "metadata": {
      "needs_background": "light"
     },
     "output_type": "display_data"
    }
   ],
   "source": [
    "low_profit = pd.DataFrame(dff['profit'].sort_values(ascending = True))\n",
    "low_profit['original_title'] = dff['original_title']\n",
    "low_profit = low_profit.head(10)\n",
    "\n",
    "#Plot the data\n",
    "low_profit.plot(x=\"original_title\", y=\"profit\", kind=\"barh\",figsize=(7,5), color=\"r\", legend=None )\n",
    "plt.title('Top 10 lowest profit movies',fontsize = 20)\n",
    "plt.xlabel(\"Money (million usd)\", fontsize = 16)\n",
    "plt.ylabel('Original title', fontsize = 14);"
   ]
  },
  {
   "cell_type": "markdown",
   "metadata": {},
   "source": [
    "<a id='13'></a>\n",
    "### *Does a higher budget ensure a higher profit?*"
   ]
  },
  {
   "cell_type": "code",
   "execution_count": 37,
   "metadata": {},
   "outputs": [
    {
     "data": {
      "image/png": "[encoded data removed]",
      "text/plain": [
       "<Figure size 432x288 with 1 Axes>"
      ]
     },
     "metadata": {
      "needs_background": "light"
     },
     "output_type": "display_data"
    }
   ],
   "source": [
    "#Plot a scatter graph of the \"budget\" and \"profit\" columns from dff dataframe\n",
    "dff.plot(x='budget', y='profit', kind='scatter')\n",
    "plt.title('Budget v/s Profits',fontsize = 16)\n",
    "plt.xlabel('Budget (millions)', size=12)\n",
    "plt.ylabel('Profits (millions)', size=12);"
   ]
  },
  {
   "cell_type": "markdown",
   "metadata": {},
   "source": [
    "> Apparently, there does not seem to be a strong relationship between budget and profit. It would be necessary to analyze with advanced tools (linear correlation) to see if this is confirmed.\n",
    "\n",
    "<a id='14'></a>\n",
    "### *Relationship between budget and revenues*"
   ]
  },
  {
   "cell_type": "code",
   "execution_count": 38,
   "metadata": {
    "scrolled": true
   },
   "outputs": [
    {
     "data": {
      "image/png": "[encoded data removed]",
      "text/plain": [
       "<Figure size 432x288 with 1 Axes>"
      ]
     },
     "metadata": {
      "needs_background": "light"
     },
     "output_type": "display_data"
    }
   ],
   "source": [
    "#Plot a scatter graph of the \"budget\" and \"revenue\" columns from dff dataframe\n",
    "dff.plot(x='budget', y='revenue', kind='scatter')\n",
    "plt.title('Budget v/s Revenues',fontsize = 16)\n",
    "plt.xlabel('Budget (millions)', size=12)\n",
    "plt.ylabel('Revenues (millions)', size=12);"
   ]
  },
  {
   "cell_type": "markdown",
   "metadata": {},
   "source": [
    "> Here we can see a positive relationship between budget and income. This does not necessarily translate into positive benefits.\n",
    "\n",
    "<a id='15'></a>\n",
    "### *Profits over the years*"
   ]
  },
  {
   "cell_type": "code",
   "execution_count": 39,
   "metadata": {},
   "outputs": [
    {
     "data": {
      "image/png": "[encoded data removed]",
      "text/plain": [
       "<Figure size 432x288 with 1 Axes>"
      ]
     },
     "metadata": {
      "needs_background": "light"
     },
     "output_type": "display_data"
    }
   ],
   "source": [
    "#We group the mean profit by release_year, and save it into the prof variable\n",
    "prof = dff.groupby('release_year')['profit'].mean()\n",
    "\n",
    "#Plot the data\n",
    "plt.plot(prof)\n",
    "plt.title('Profits over the Years', size=16);\n",
    "plt.xlabel('Years', size=12)\n",
    "plt.ylabel('Average profits (millions usd)', size=12);"
   ]
  },
  {
   "cell_type": "markdown",
   "metadata": {},
   "source": [
    "> Profits from making movies have increased over the years (maybe it's a good time to make a movie).\n",
    "\n",
    "<a id='16'></a>\n",
    "### *Budget over the years*"
   ]
  },
  {
   "cell_type": "code",
   "execution_count": 40,
   "metadata": {},
   "outputs": [
    {
     "data": {
      "image/png": "[encoded data removed]",
      "text/plain": [
       "<Figure size 432x288 with 1 Axes>"
      ]
     },
     "metadata": {
      "needs_background": "light"
     },
     "output_type": "display_data"
    }
   ],
   "source": [
    "#We group the mean budget by release_year, and save it into the bud variable\n",
    "bud = dff.groupby('release_year')['budget'].mean()\n",
    "\n",
    "#Plot the data\n",
    "plt.plot(bud)\n",
    "plt.title('Budget over the Years', size=16);\n",
    "plt.xlabel('Years', size=12)\n",
    "plt.ylabel('Average budgets (millions usd)', size=12);"
   ]
  },
  {
   "cell_type": "markdown",
   "metadata": {},
   "source": [
    "> There is an increase in film budgets until 2000, when a decrease can be seen. \n",
    "\n",
    "<a id='17'></a>\n",
    "### *Revenue over the years*"
   ]
  },
  {
   "cell_type": "code",
   "execution_count": 41,
   "metadata": {},
   "outputs": [
    {
     "data": {
      "image/png": "[encoded data removed]",
      "text/plain": [
       "<Figure size 432x288 with 1 Axes>"
      ]
     },
     "metadata": {
      "needs_background": "light"
     },
     "output_type": "display_data"
    }
   ],
   "source": [
    "#We group the mean revenue by release_year, and save it into the rev variable\n",
    "rev = dff.groupby('release_year')['revenue'].mean()\n",
    "\n",
    "#Plot the data\n",
    "plt.plot(rev)\n",
    "plt.title('Revenue over the Years', size=16);\n",
    "plt.xlabel('Years', size=12)\n",
    "plt.ylabel('Average revenue (millions usd)', size=12);"
   ]
  },
  {
   "cell_type": "markdown",
   "metadata": {},
   "source": [
    "> Similar to the budget graph, there is a rise until 2010, and then there is a less strong decline than the income graph. \n",
    "\n",
    "<a id='18'></a>\n",
    "### *Number of films made by year*"
   ]
  },
  {
   "cell_type": "code",
   "execution_count": 42,
   "metadata": {},
   "outputs": [
    {
     "data": {
      "image/png": "[encoded data removed]",
      "text/plain": [
       "<Figure size 432x288 with 1 Axes>"
      ]
     },
     "metadata": {
      "needs_background": "light"
     },
     "output_type": "display_data"
    }
   ],
   "source": [
    "#We group the count of every movie by release_year, and save it into the can variable\n",
    "can = dff.groupby(['release_year'])[\"release_year\"].count()\n",
    "\n",
    "#Plot the data\n",
    "plt.plot(can);\n",
    "plt.title('Number of films per year', size=16);\n",
    "plt.xlabel('Years', size=12)\n",
    "plt.ylabel('Quantity', size=12);"
   ]
  },
  {
   "cell_type": "markdown",
   "metadata": {},
   "source": [
    "<a id='a_others'></a>\n",
    "### * **Other interesting data**\n",
    "\n",
    "<a id='19'></a>\n",
    "### *Which actors have appeared in the most films?*"
   ]
  },
  {
   "cell_type": "code",
   "execution_count": 43,
   "metadata": {},
   "outputs": [
    {
     "data": {
      "text/plain": [
       "Robert De Niro        72\n",
       "Samuel L. Jackson     71\n",
       "Bruce Willis          62\n",
       "Nicolas Cage          61\n",
       "Michael Caine         53\n",
       "Robin Williams        51\n",
       "John Cusack           50\n",
       "Morgan Freeman        49\n",
       "John Goodman          49\n",
       "Susan Sarandon        48\n",
       "Liam Neeson           48\n",
       "Julianne Moore        47\n",
       "Alec Baldwin          47\n",
       "Johnny Depp           46\n",
       "Christopher Walken    46\n",
       "Name: cast_split, dtype: int64"
      ]
     },
     "execution_count": 43,
     "metadata": {},
     "output_type": "execute_result"
    }
   ],
   "source": [
    "#From the df_split_cast dataframe, we count the actors and show the 15 with the most acted films.\n",
    "df_split_cast['cast_split'].value_counts().head(15)"
   ]
  },
  {
   "cell_type": "markdown",
   "metadata": {},
   "source": [
    "<a id='20'></a>\n",
    "### *Which directors have directed the most films?*"
   ]
  },
  {
   "cell_type": "code",
   "execution_count": 44,
   "metadata": {
    "scrolled": true
   },
   "outputs": [
    {
     "data": {
      "text/plain": [
       "Woody Allen             46\n",
       "Clint Eastwood          34\n",
       "Martin Scorsese         30\n",
       "Steven Spielberg        30\n",
       "Ridley Scott            23\n",
       "Steven Soderbergh       23\n",
       "Ron Howard              22\n",
       "Joel Schumacher         21\n",
       "Brian De Palma          20\n",
       "Tim Burton              19\n",
       "Francis Ford Coppola    19\n",
       "David Cronenberg        19\n",
       "Wes Craven              19\n",
       "Robert Rodriguez        19\n",
       "John Carpenter          19\n",
       "Name: director_split, dtype: int64"
      ]
     },
     "execution_count": 44,
     "metadata": {},
     "output_type": "execute_result"
    }
   ],
   "source": [
    "#From the df_split_director dataframe, we count the directors and show the 15 with the most directed films.\n",
    "df_split_director['director_split'].value_counts().head(15)"
   ]
  },
  {
   "cell_type": "markdown",
   "metadata": {},
   "source": [
    "<a id='21'></a>\n",
    "### *Which production companies have directed the films?*"
   ]
  },
  {
   "cell_type": "code",
   "execution_count": 45,
   "metadata": {},
   "outputs": [
    {
     "data": {
      "text/plain": [
       "Universal Pictures                        522\n",
       "Warner Bros.                              509\n",
       "Paramount Pictures                        431\n",
       "Twentieth Century Fox Film Corporation    282\n",
       "Columbia Pictures                         272\n",
       "New Line Cinema                           219\n",
       "Metro-Goldwyn-Mayer (MGM)                 218\n",
       "Walt Disney Pictures                      213\n",
       "Touchstone Pictures                       178\n",
       "Columbia Pictures Corporation             160\n",
       "TriStar Pictures                          147\n",
       "Miramax Films                             139\n",
       "Relativity Media                          108\n",
       "Regency Enterprises                        95\n",
       "Canal+                                     92\n",
       "Name: production_split, dtype: int64"
      ]
     },
     "execution_count": 45,
     "metadata": {},
     "output_type": "execute_result"
    }
   ],
   "source": [
    "#From the df_split_production dataframe, we count the companies and show the 15 with the most films.\n",
    "df_split_production['production_split'].value_counts().head(15)"
   ]
  },
  {
   "cell_type": "markdown",
   "metadata": {},
   "source": [
    "<a id='conclusions'></a>\n",
    "## Conclusions\n",
    "\n",
    "It is interesting to see that over the years, the popularity of movies shows a rise, even though the length of these have been reduced and since 2000, both the budget and revenue has been reduced, I think this is because the new generations are less critical when watching a movie, due to greater ease of viewing (thanks to the internet especially), so the industry has prioritized making many more movies, with a lower budget in each of them. \n",
    "\tThe other conclusions are the typical ones: the drama genre is the most popular, well-known companies and directors have the most films, and the longest film lasts 15 hours!!!!!!.\n",
    "\n",
    "\n",
    "\n",
    "### Some limitations of this analysis: \n",
    "Although an analysis has been performed that attempts to represent most of the data and some of the most interesting things, it's necessary to clarify that there are some limitations of both the analysis and the dataset:\n",
    "- The analysis performed is limited to analyzing how a data set evolves, or how two variables are related. A better analysis could be performed with advanced tools (correlation coefficient, moving average, among others).\n",
    "- Although there is a large amount of data to analyze, many of them are meaningless, for example: movies with 0 minutes of duration, 0 budget or 0 revenue.\n",
    "- Statistical analysis has not been performed, although the questions answered did not require this type of analysis, it's reported for general knowledge.\n"
   ]
  }
 ],
 "metadata": {
  "kernelspec": {
   "display_name": "Python 3",
   "language": "python",
   "name": "python3"
  },
  "language_info": {
   "codemirror_mode": {
    "name": "ipython",
    "version": 3
   },
   "file_extension": ".py",
   "mimetype": "text/x-python",
   "name": "python",
   "nbconvert_exporter": "python",
   "pygments_lexer": "ipython3",
   "version": "3.8.5"
  }
 },
 "nbformat": 4,
 "nbformat_minor": 2
}
